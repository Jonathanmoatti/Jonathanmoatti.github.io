{
 "cells": [
  {
   "cell_type": "markdown",
   "id": "af89356d",
   "metadata": {},
   "source": [
    "---\n",
    "title: \"Solutions\"\n",
    "format:\n",
    "  html:\n",
    "    code-fold: false\n",
    "jupyter: python3\n",
    "---"
   ]
  },
  {
   "cell_type": "markdown",
   "id": "aacc29c7",
   "metadata": {},
   "source": [
    "# Question 1 - Échauffements"
   ]
  },
  {
   "cell_type": "markdown",
   "id": "9c3af10d",
   "metadata": {},
   "source": [
    "## Question 1.A\n",
    "Écrire un programme qui demande un nombre à l’utilisateur, et l'informe ensuite si ce nombre est positif ou négatif. (Aux fins du présent exercice, le nombre zéro est considéré comme étant positif)."
   ]
  },
  {
   "cell_type": "code",
   "execution_count": 12,
   "id": "9cbc360a",
   "metadata": {},
   "outputs": [
    {
     "name": "stdout",
     "output_type": "stream",
     "text": [
      "Un nombre ? -1\n",
      "Le nombre -1 est négatif\n"
     ]
    }
   ],
   "source": [
    "#Solution 1\n",
    "nb = int(input(\"Un nombre ? \"))\n",
    "\n",
    "if nb<0 :\n",
    "    print(f\"Le nombre {nb} est négatif\")\n",
    "else :\n",
    "    print(f\"Le nombre {nb} est positif\")"
   ]
  },
  {
   "cell_type": "code",
   "execution_count": 11,
   "id": "bbe2cd28",
   "metadata": {},
   "outputs": [
    {
     "name": "stdout",
     "output_type": "stream",
     "text": [
      "Un nombre ? 0\n",
      "Le nombre 0 est positif\n"
     ]
    }
   ],
   "source": [
    "#Solution 2\n",
    "nb = int(input(\"Un nombre ? \"))\n",
    "\n",
    "if nb<0 :\n",
    "    msg = \"négatif\"\n",
    "else :\n",
    "    msg = \"positif\"\n",
    "\n",
    "print(f\"Le nombre {nb} est {msg}\")\n",
    "\n",
    "# comparer les deux solutions en terme de performance et maintenance du code afin de les sensibiliser "
   ]
  },
  {
   "cell_type": "markdown",
   "id": "2b0ccc0e",
   "metadata": {},
   "source": [
    "## Question 1.B\n",
    "Écrire un programme qui lit trois nombres entiers nb1, nb2 et nb3, et affiche selon le cas, l’un des trois messages ci-dessous :\n",
    "- Les nombres sont en ordre croissant\n",
    "- Les nombres sont en ordre décroissant\n",
    "- Les nombres sont en désordre\n",
    "\n",
    "aux fins du présent exércice, ne considérons pas l'éventualité où les valeurs de nb1, nb2 et nb3 puissent être égales les unes aux autres."
   ]
  },
  {
   "cell_type": "code",
   "execution_count": 9,
   "id": "871ed916",
   "metadata": {},
   "outputs": [
    {
     "name": "stdout",
     "output_type": "stream",
     "text": [
      "nb 1 ? 10\n",
      "nb 2 ? 20\n",
      "nb 3 ? 30\n",
      "Les nombres sont en ordre croissant\n"
     ]
    }
   ],
   "source": [
    "#Solution 1\n",
    "nb1 = int(input(\"nb 1 ? \"))\n",
    "nb2 = int(input(\"nb 2 ? \"))\n",
    "nb3 = int(input(\"nb 3 ? \"))\n",
    "\n",
    "chaine = \"Les nombres sont en \"\n",
    "if nb1 < nb2:\n",
    "    if nb2 < nb3:\n",
    "        chaine += \"ordre croissant\"\n",
    "    else:\n",
    "        chaine += \"désordre\"\n",
    "else:\n",
    "    if nb2 < nb3 :\n",
    "        chaine += \"désordre\"\n",
    "    else:\n",
    "        chaine += \"ordre décroissant\"\n",
    "\n",
    "print(chaine)"
   ]
  },
  {
   "cell_type": "code",
   "execution_count": 16,
   "id": "44e0b009",
   "metadata": {},
   "outputs": [
    {
     "name": "stdout",
     "output_type": "stream",
     "text": [
      "nb 1 ? 10\n",
      "nb 2 ? 20\n",
      "nb 3 ? 30\n",
      "Les nombres sont en ordre croissant\n"
     ]
    }
   ],
   "source": [
    "#Solution 2\n",
    "nb1 = int(input(\"nb 1 ? \"))\n",
    "nb2 = int(input(\"nb 2 ? \"))\n",
    "nb3 = int(input(\"nb 3 ? \"))\n",
    "\n",
    "chaine = \"Les nombres sont en \"\n",
    "if nb1 < nb2 and nb2 < nb3 :\n",
    "    chaine += \"ordre croissant\"\n",
    "elif nb1 > nb2 and nb2 > nb3 :\n",
    "    chaine += \"ordre décroissant\"\n",
    "else:\n",
    "    chaine += \"désordre\"\n",
    "\n",
    "print(chaine)\n",
    "# comparer les deux solutions en terme de performance et maintenance du code afin de les sensibiliser "
   ]
  },
  {
   "cell_type": "markdown",
   "id": "5dcb884a",
   "metadata": {},
   "source": [
    "## Question 1.C\n",
    "Écrire un programme qui permet de calculer le résultat de la division de deux nombre entiers nb1 et nb2. Attention lorsque l'utilisateur introduit la valeur 0 pour nb2, on affiche « infini »."
   ]
  },
  {
   "cell_type": "code",
   "execution_count": 24,
   "id": "7377501a",
   "metadata": {},
   "outputs": [
    {
     "name": "stdout",
     "output_type": "stream",
     "text": [
      "nb 1 ? 10\n",
      "nb 2 ? 0\n",
      "10 / 0 = infinity\n"
     ]
    }
   ],
   "source": [
    "# print(10/0)\n",
    "\n",
    "nb1 = int(input(\"nb 1 ? \"))\n",
    "nb2 = int(input(\"nb 2 ? \"))\n",
    "\n",
    "if(nb2 == 0) :\n",
    "    resultat = \"infinity\"\n",
    "else :\n",
    "    resultat = (nb1/nb2)\n",
    "\n",
    "print(f\"{nb1} / {nb2} = {resultat}\")"
   ]
  },
  {
   "cell_type": "markdown",
   "id": "4faf4fb1",
   "metadata": {},
   "source": [
    "# Calcul Mediane"
   ]
  },
  {
   "cell_type": "code",
   "execution_count": 6,
   "id": "fae5d340",
   "metadata": {},
   "outputs": [
    {
     "name": "stdout",
     "output_type": "stream",
     "text": [
      "2\n"
     ]
    }
   ],
   "source": [
    "numbers_list = [1,2,3]\n",
    "    \n",
    "# Sort the list in ascending order\n",
    "sorted_numbers = sorted(numbers_list)\n",
    "length = len(sorted_numbers)\n",
    "\n",
    "# leur rappeller que la partie la plus important pour determiner si pair ou impair est la condition %2 != 0\n",
    "if length % 2 != 0:\n",
    "    median = sorted_numbers[length // 2]\n",
    "\n",
    "else:\n",
    "# If length is even, return average of two middle elements\n",
    "    middle_right_index = length // 2\n",
    "    middle_left_index = middle_right_index - 1\n",
    "    median = (sorted_numbers[middle_left_index] + sorted_numbers[middle_right_index]) / 2\n",
    "\n",
    "print(median)"
   ]
  },
  {
   "cell_type": "markdown",
   "id": "6fe659b2",
   "metadata": {},
   "source": [
    "# Exercice : Création d'une matrice avec des listes imbriquées\n",
    "\n",
    "**Énoncé :**  \n",
    "\n",
    "Écrivez un programme Python qui crée une matrice (liste de listes) avec les spécifications suivantes :\n",
    "- La matrice doit avoir 5 lignes\n",
    "- Chaque ligne doit contenir 3 colonnes\n",
    "- Les valeurs dans chaque ligne doivent être les nombres 0, 1, et 2 dans cet ordre\n",
    "- Utilisez des boucles imbriquées pour construire cette structure\n",
    "\n",
    "La sortie attendue devrait être une liste contenant 5 sous-listes identiques, où chaque sous-liste contient les nombres [0, 1, 2].\n",
    "\n",
    "**Résultat attendu :**\n",
    "```\n",
    "[[0, 1, 2], [0, 1, 2], [0, 1, 2], [0, 1, 2], [0, 1, 2]]\n",
    "```"
   ]
  },
  {
   "cell_type": "code",
   "execution_count": 15,
   "id": "48187234",
   "metadata": {},
   "outputs": [
    {
     "name": "stdout",
     "output_type": "stream",
     "text": [
      "[[0, 1, 2], [0, 1, 2], [0, 1, 2], [0, 1, 2], [0, 1, 2]]\n"
     ]
    }
   ],
   "source": [
    "meta_list = []\n",
    "for i in range(5):\n",
    "    temp = []\n",
    "    meta_list.append(temp)\n",
    "    for j in range(3):\n",
    "        temp.append(j)\n",
    "\n",
    "print(meta_list)"
   ]
  },
  {
   "cell_type": "markdown",
   "id": "06154a0c",
   "metadata": {},
   "source": [
    "# Exercice : Construction d'une matrice avec motif spécifique\n",
    "Objectif : Créer une matrice avec des valeurs spécifiques aux extremitees et un remplissage par défaut.\n",
    "\n",
    "Description :\n",
    "Écrivez un programme Python qui :\n",
    "\n",
    "1. Crée une matrice de 6 lignes et 4 colonnes\n",
    "2. Remplit la première colonne (index 0) avec le texte 'premiere_entree'\n",
    "3. Remplit la dernière colonne avec le texte 'derniere_entree'\n",
    "4. Remplit toutes les colonnes intermédiaires avec des zéros\n",
    "\n"
   ]
  },
  {
   "cell_type": "code",
   "execution_count": 13,
   "id": "29b486b1",
   "metadata": {},
   "outputs": [],
   "source": [
    "meta_list = []\n",
    "nb_rows = 6\n",
    "nb_cols = 4\n",
    "\n",
    "for i in range(nb_rows):\n",
    "    temp = []\n",
    "    meta_list.append(temp)\n",
    "    for j in range(nb_cols):\n",
    "        if j == 0:\n",
    "            temp.append('premiere_entree')\n",
    "        elif j == nb_cols-1:\n",
    "            temp.append(\"derniere_entree\")\n",
    "        else:\n",
    "            temp.append(0)"
   ]
  },
  {
   "cell_type": "markdown",
   "id": "2b13a68c",
   "metadata": {},
   "source": [
    "# Exercice : Faire une fonction de la solution de l'exercice precedent, prennant des intrnats varies"
   ]
  },
  {
   "cell_type": "code",
   "execution_count": 16,
   "id": "31bcb386",
   "metadata": {},
   "outputs": [],
   "source": [
    "def matrix_creation(nb_rows, nb_cols, first_val, last_val):\n",
    "    meta_list = []\n",
    "\n",
    "    for i in range(nb_rows):\n",
    "        temp = []\n",
    "        meta_list.append(temp)\n",
    "        for j in range(nb_cols):\n",
    "            if j == 0:\n",
    "                temp.append(first_val)\n",
    "            elif j == nb_cols-1:\n",
    "                temp.append(last_val)\n",
    "            else:\n",
    "                temp.append(0)\n",
    "\n",
    "    return meta_list"
   ]
  },
  {
   "cell_type": "code",
   "execution_count": 18,
   "id": "07ce76dc",
   "metadata": {},
   "outputs": [
    {
     "data": {
      "text/plain": [
       "[['premiere_entree', 0, 0, 'derniere_entree'],\n",
       " ['premiere_entree', 0, 0, 'derniere_entree'],\n",
       " ['premiere_entree', 0, 0, 'derniere_entree'],\n",
       " ['premiere_entree', 0, 0, 'derniere_entree'],\n",
       " ['premiere_entree', 0, 0, 'derniere_entree'],\n",
       " ['premiere_entree', 0, 0, 'derniere_entree']]"
      ]
     },
     "execution_count": 18,
     "metadata": {},
     "output_type": "execute_result"
    }
   ],
   "source": [
    "solution = matrix_creation(6, 4, 'premiere_entree', 'derniere_entree')\n",
    "solution"
   ]
  },
  {
   "cell_type": "code",
   "execution_count": 19,
   "id": "ec965e66",
   "metadata": {},
   "outputs": [
    {
     "data": {
      "text/plain": [
       "[[42, 0, 0, 99],\n",
       " [42, 0, 0, 99],\n",
       " [42, 0, 0, 99],\n",
       " [42, 0, 0, 99],\n",
       " [42, 0, 0, 99],\n",
       " [42, 0, 0, 99]]"
      ]
     },
     "execution_count": 19,
     "metadata": {},
     "output_type": "execute_result"
    }
   ],
   "source": [
    "solution = matrix_creation(6, 4, 42, 99)\n",
    "solution"
   ]
  },
  {
   "cell_type": "markdown",
   "id": "296b388f",
   "metadata": {},
   "source": [
    "## Question 1.D\n",
    "Écrire le programme qui après lecture du montant TTC de l'addition, déterminera et affichera le montant du pourboire accordé à un serveur dans un restaurant. Le pourboire doit être de 15% sur le montant HT de l’addition. Le montant du pourboire ne peut être inférieur à 1$.\n",
    "\n",
    "Note : TPS = 5%, TVQ = 9.975%"
   ]
  },
  {
   "cell_type": "code",
   "execution_count": 38,
   "id": "bd5df5bd",
   "metadata": {},
   "outputs": [
    {
     "name": "stdout",
     "output_type": "stream",
     "text": [
      "Le montant total de la facture ? 115\n",
      "Montant du pourboire : 15.0\n",
      "Montant du pourboire : 15.00\n"
     ]
    }
   ],
   "source": [
    "#constantes symboliques / éviter les constances littérales dans le code\n",
    "TAUX_TPS       = .05\n",
    "TAUX_TVQ       = .09975\n",
    "TAUX_POURBOIRE = .15\n",
    "\n",
    "#variables\n",
    "montantTotal   = float(input(\"Le montant total de la facture ? \"))\n",
    "montantAT      = montantTotal / (1+TAUX_TPS+TAUX_TVQ)\n",
    "# print(montantAT)\n",
    "\n",
    "pourboire      = montantAT * TAUX_POURBOIRE\n",
    "\n",
    "if pourboire < 1 :\n",
    "    pourboire = 1\n",
    "\n",
    "print(f\"Montant du pourboire : {round(pourboire,2)}\")\n",
    "print(f\"Montant du pourboire : {pourboire:.2f}\") #expliquer la différence"
   ]
  },
  {
   "cell_type": "markdown",
   "id": "4e22b0ab",
   "metadata": {},
   "source": [
    "# Question 2"
   ]
  },
  {
   "cell_type": "markdown",
   "id": "dabecc8e",
   "metadata": {},
   "source": [
    "Écrire le programme qui déterminera le total en dollars (arrondi) des clés USB commandées. Chaque clé USB coûte 15 dollars. Si on commande plus de 25 clés USB le prix est alors de 12.70 dollars chacune.\n",
    "On lit le nombre de clés USB, calculons et affichons le prix total."
   ]
  },
  {
   "cell_type": "code",
   "execution_count": 64,
   "id": "15e17894",
   "metadata": {},
   "outputs": [
    {
     "name": "stdout",
     "output_type": "stream",
     "text": [
      "Le nombre de clés USB ? 26\n",
      "26 x 12.70$ = 330.20$\n"
     ]
    }
   ],
   "source": [
    "PRIX_DETAIL = 15\n",
    "PRIX_GROS   = 12.70\n",
    "QTE_GROS    = 25\n",
    "\n",
    "nbUSB = int(input(\"Le nombre de clés USB ? \"))\n",
    "\n",
    "prix = PRIX_DETAIL\n",
    "if nbUSB > QTE_GROS :\n",
    "    prix = PRIX_GROS\n",
    "\n",
    "total = round(nbUSB*prix,2)\n",
    "print(f\"{nbUSB} x {prix:.2f}$ = {total:.2f}$\")"
   ]
  },
  {
   "cell_type": "markdown",
   "id": "2e172ce7",
   "metadata": {},
   "source": [
    "# Question 3"
   ]
  },
  {
   "cell_type": "markdown",
   "id": "424d3cea",
   "metadata": {},
   "source": [
    "Modifier le programme 1.D pour qu’en plus, on demande à l’utilisateur son degré de satisfaction, on calcule et affiche le pourboire selon le barème suivant :\n",
    "\n",
    "| Valeur saisie pour le degré de satisfaction |degré de satisfaction correspondant| Pourboire accordé|\n",
    "|---:|:---:|---:|\n",
    "|0|médiocre|10%|\n",
    "|1|moyen|15%|\n",
    "|2|satisfaisant|20%|\n",
    "|3|exceptionnel|25%|\n"
   ]
  },
  {
   "cell_type": "code",
   "execution_count": 63,
   "id": "c0b969f9",
   "metadata": {},
   "outputs": [
    {
     "name": "stdout",
     "output_type": "stream",
     "text": [
      "Le montant total de la facture ? 115\n",
      "Quel est votre degré de satisfaction :\n",
      "\tentrez 0 pour médiocre\n",
      "\tentrez 1 pour moyen\n",
      "\tentrez 2 pour satisfaisant\n",
      "\tentrez 3 pour exceptionnel\n",
      "2\n",
      "Montant du pourboire : 20.0\n",
      "Montant du pourboire : 20.00\n"
     ]
    }
   ],
   "source": [
    "#Solution 1 (difficilement généralisable)\n",
    "TAUX_TPS       = .05\n",
    "TAUX_TVQ       = .09975\n",
    "\n",
    "AUCUN        = 0\n",
    "MEDIOCRE     = .1\n",
    "MOYEN        = .15\n",
    "SATISFAISANT = .2\n",
    "EXCEPTIONNEL = .25\n",
    "\n",
    "montantTotal   = float(input(\"Le montant total de la facture ? \"))\n",
    "montantAT      = montantTotal / (1+TAUX_TPS+TAUX_TVQ)\n",
    "\n",
    "\n",
    "niveauSatisfaction = input(\"Quel est votre degré de satisfaction :\\n\\tentrez 0 pour médiocre\\n\\tentrez 1 pour moyen\\n\\tentrez 2 pour satisfaisant\\n\\tentrez 3 pour exceptionnel\\n\")\n",
    "\n",
    "if niveauSatisfaction == \"0\":\n",
    "    tauxPourboire = MEDIOCRE\n",
    "elif niveauSatisfaction == \"1\":\n",
    "    tauxPourboire = MOYEN\n",
    "elif niveauSatisfaction == \"2\":\n",
    "    tauxPourboire = SATISFAISANT\n",
    "elif niveauSatisfaction == \"3\":\n",
    "    tauxPourboire = EXCEPTIONNEL\n",
    "else:\n",
    "    tauxPourboire = AUCUN\n",
    "\n",
    "pourboire = montantAT * tauxPourboire\n",
    "\n",
    "print(f\"Montant du pourboire : {round(pourboire,2)}\")\n",
    "print(f\"Montant du pourboire : {pourboire:.2f}\")"
   ]
  },
  {
   "cell_type": "code",
   "execution_count": 44,
   "id": "92cd6a8a",
   "metadata": {},
   "outputs": [
    {
     "name": "stdout",
     "output_type": "stream",
     "text": [
      "Le montant total de la facture ? 115\n",
      "Quel est votre degré de satisfaction :\n",
      "\tentrez 0 pour médiocre\n",
      "\tentrez 1 pour moyen\n",
      "\tentrez 2 pour satisfaisant\n",
      "\tentrez 3 pour exceptionnel\n",
      "0\n",
      "Montant du pourboire : 10.0\n",
      "Montant du pourboire : 10.00\n"
     ]
    }
   ],
   "source": [
    "#Solution 2 (plus généraisable)\n",
    "TAUX_TPS       = .05\n",
    "TAUX_TVQ       = .09975\n",
    "\n",
    "TAUX_POURBOIRE = [.1,.15,.2,.25,]\n",
    "\n",
    "montantTotal   = float(input(\"Le montant total de la facture ? \"))\n",
    "montantAT      = montantTotal / (1+TAUX_TPS+TAUX_TVQ)\n",
    "tauxPourboire  = 0\n",
    "\n",
    "niveauSatisfaction = int(input(\"Quel est votre degré de satisfaction :\\n\\tentrez 0 pour médiocre\\n\\tentrez 1 pour moyen\\n\\tentrez 2 pour satisfaisant\\n\\tentrez 3 pour exceptionnel\\n\"))\n",
    "if(niveauSatisfaction < len(TAUX_POURBOIRE)):\n",
    "    tauxPourboire = TAUX_POURBOIRE[niveauSatisfaction]\n",
    "    \n",
    "pourboire      = montantAT * tauxPourboire\n",
    "\n",
    "print(f\"Montant du pourboire : {round(pourboire,2)}\")\n",
    "print(f\"Montant du pourboire : {pourboire:.2f}\")"
   ]
  },
  {
   "cell_type": "code",
   "execution_count": 61,
   "id": "a175da1f",
   "metadata": {},
   "outputs": [
    {
     "name": "stdout",
     "output_type": "stream",
     "text": [
      "Le montant total de la facture ? 115\n",
      "Quel est votre degré de satisfaction :\n",
      "\tentrez 0 pour médiocre     - (0.10%)\n",
      "\tentrez 1 pour moyen        - (0.15%)\n",
      "\tentrez 2 pour satisfaisant - (0.20%)\n",
      "\tentrez 3 pour exceptionnel - (0.25%)\n",
      "\t3\n",
      "Montant du pourboire : 25.01\n",
      "Montant du pourboire : 25.01\n"
     ]
    }
   ],
   "source": [
    "#Solution 3 (encore meilleure)\n",
    "TAUX_TPS       = .05\n",
    "TAUX_TVQ       = .09975\n",
    "\n",
    "TAUX_POURBOIRE = [\n",
    "    {\"niveau\":\"médiocre\"    , \"taux\":.1 },\n",
    "    {\"niveau\":\"moyen\"       , \"taux\":.15},\n",
    "    {\"niveau\":\"satisfaisant\", \"taux\":.2 },\n",
    "    {\"niveau\":\"exceptionnel\", \"taux\":.25},\n",
    "]\n",
    "montantTotal   = float(input(\"Le montant total de la facture ? \"))\n",
    "montantAT      = montantTotal / (1+TAUX_TPS+TAUX_TVQ)\n",
    "tauxPourboire  = 0\n",
    "\n",
    "invite = \"Quel est votre degré de satisfaction :\\n\\t\"\n",
    "\n",
    "for i in range(len(TAUX_POURBOIRE)):\n",
    "    invite += f\"entrez {i} pour {TAUX_POURBOIRE[i]['niveau']:12s} - ({TAUX_POURBOIRE[i]['taux']:.2f}%)\\n\\t\"\n",
    "    \n",
    "\n",
    "niveauSatisfaction = int(input(invite))\n",
    "if(niveauSatisfaction < len(TAUX_POURBOIRE)):\n",
    "    tauxPourboire = TAUX_POURBOIRE[niveauSatisfaction][\"taux\"]\n",
    "    \n",
    "pourboire      = montantAT * tauxPourboire\n",
    "\n",
    "print(f\"Montant du pourboire : {round(pourboire,2)}\")\n",
    "print(f\"Montant du pourboire : {pourboire:.2f}\")"
   ]
  },
  {
   "cell_type": "markdown",
   "id": "12fd79ef",
   "metadata": {},
   "source": [
    "# Question 4"
   ]
  },
  {
   "cell_type": "markdown",
   "id": "d8ef7de9",
   "metadata": {},
   "source": [
    "Vous avez une liste de noms d'étudiants : `['bob', 'mary', 'jane', 'rick', 'peter', 'marge']`.  \n",
    "\n",
    "Votre tâche consiste à demander à l'utilisateur de rentrer un nom, puis vérifier si ce nom est présent dans la liste d'étudiants. \n",
    "\n",
    "Si le nom est présent dans la liste, vous devez écrire le message suivant dans un fichier texte nommé `prenoms.txt` en utilisant la commande `with open` :\n",
    "> \"Le nom `<nom_utilisateur>` est présent dans la liste d'étudiants\"\n",
    "\n",
    "Si le nom n'est pas présent dans la liste, vous devez écrire le message suivant dans `prenoms.txt`:\n",
    "> \"Le nom `<nom_utilisateur>` n'est pas présent dans la liste d'étudiants\"\n",
    "\n",
    "**Indice**: Il peut etre judicieux de mettre le nom de l'utilisateur en minuscule pour uniformiser la casse."
   ]
  },
  {
   "cell_type": "code",
   "execution_count": 3,
   "id": "b7ab13b0",
   "metadata": {},
   "outputs": [
    {
     "name": "stdout",
     "output_type": "stream",
     "text": [
      "Entrez un nom : mehdi\n",
      "Opération terminée. Vérifiez le fichier prenoms.txt.\n"
     ]
    }
   ],
   "source": [
    "# Liste des noms d'étudiants\n",
    "etudiants = ['bob', 'mary', 'jane', 'rick', 'peter', 'marge']\n",
    "\n",
    "# Demander à l'utilisateur de rentrer un nom\n",
    "nom_utilisateur = input(\"Entrez un nom : \")\n",
    "\n",
    "# Convertir le nom en lettres minuscules\n",
    "nom_utilisateur = nom_utilisateur.lower()\n",
    "\n",
    "# Vérifier si le nom est présent dans la liste d'étudiants\n",
    "if nom_utilisateur in etudiants:\n",
    "    message = f\"Le nom {nom_utilisateur} est présent dans la liste d'étudiants\"\n",
    "else:\n",
    "    message = f\"Le nom {nom_utilisateur} n'est pas présent dans la liste d'étudiants\"\n",
    "\n",
    "# Écrire le message dans le fichier prenoms.txt\n",
    "with open(\"prenoms.txt\", \"w\", encoding=\"UTF-8\") as fichier:\n",
    "    fichier.write(message)\n",
    "\n",
    "print(\"Opération terminée. Vérifiez le fichier prenoms.txt.\")"
   ]
  },
  {
   "cell_type": "markdown",
   "id": "ff74dae4",
   "metadata": {},
   "source": [
    "# Question 5"
   ]
  },
  {
   "cell_type": "markdown",
   "id": "bea20eae",
   "metadata": {},
   "source": [
    "Vous disposez des trois listes de données suivantes : \n",
    "- `first_names` contenant des prénoms, \n",
    "- `last_names` contenant des noms de famille,\n",
    "- `positions` contenant des positions. \n",
    "\n",
    "Votre tâche consiste à créer une boucle qui parcourt ces trois listes simultanement et affiche les informations de chaque joueur dans le format suivant:\n",
    "\n",
    "> Description du Joueur :  \n",
    "> Prénom : `<prenom>`  \n",
    "> Nom de Famille : `<noms_de_famille>`  \n",
    "> Position : `<positions>`  \n",
    "> `--------`\n",
    "    \n",
    "    \n",
    "Voici le code de départ que vous pouvez utiliser pour résoudre cet exercice :"
   ]
  },
  {
   "cell_type": "code",
   "execution_count": 5,
   "id": "c28c7c37",
   "metadata": {},
   "outputs": [
    {
     "name": "stdout",
     "output_type": "stream",
     "text": [
      "Description du Joueur :\n",
      "Prénom : Bill\n",
      "Nom de Famille : Russell\n",
      "Position : Pivot\n",
      "--------\n",
      "Description du Joueur :\n",
      "Prénom : Jerry\n",
      "Nom de Famille : West\n",
      "Position : Meneur\n",
      "--------\n",
      "Description du Joueur :\n",
      "Prénom : Wilt\n",
      "Nom de Famille : Chamberlain\n",
      "Position : Pivot\n",
      "--------\n",
      "Description du Joueur :\n",
      "Prénom : Bob\n",
      "Nom de Famille : Cousy\n",
      "Position : Meneur\n",
      "--------\n",
      "Description du Joueur :\n",
      "Prénom : Elgin\n",
      "Nom de Famille : Baylor\n",
      "Position : Ailier\n",
      "--------\n"
     ]
    }
   ],
   "source": [
    "prenoms = ['Bill', 'Jerry', 'Wilt', 'Bob', 'Elgin', 'Mehdi']\n",
    "noms_de_famille = ['Russell', 'West', 'Chamberlain', 'Cousy', 'Baylor']\n",
    "positions = ['Pivot', 'Meneur', 'Pivot', 'Meneur', 'Ailier']\n",
    "\n",
    "# Vérifie que les 3 listes ont le même nombre d'éléments\n",
    "len(prenoms) == len(noms_de_famille) == len(positions)\n",
    "\n",
    "# Itere sur les listes et imprimme le message adequat.\n",
    "for chiffre in range(min(len(prenoms), len(noms_de_famille), len(positions))):\n",
    "    print(f\"Description du Joueur :\\nPrénom : {prenoms[chiffre]}\\nNom de Famille : {noms_de_famille[chiffre]}\\nPosition : {positions[chiffre]}\")\n",
    "    print(\"--------\")"
   ]
  },
  {
   "cell_type": "markdown",
   "id": "025d7ee6",
   "metadata": {},
   "source": [
    "# Question 6:"
   ]
  },
  {
   "cell_type": "markdown",
   "id": "b52d68ec",
   "metadata": {},
   "source": [
    "Un fichier (`data.txt`) vous est fourni. Votre tâche consiste à ouvrir le fichier à l'aide de la fonction `with open` en mode `lecture` puis transformer les données qui s'y trouvent sous format `texte` (qui dit `texte` dit éléments de type `string`...) en une liste  que vous nommerez `list_of_integers`. \n",
    "\n",
    "`list_of_integers` ne doit contenir que des chiffres (éléments de type `int`)."
   ]
  },
  {
   "cell_type": "code",
   "execution_count": 7,
   "id": "7bd37b82",
   "metadata": {},
   "outputs": [
    {
     "data": {
      "text/plain": [
       "[1, 2, 3, 4, 5, 6, 7, 8, 9, 10, 11, 12, 13, 14, 15, 16, 17, 18, 19, 20]"
      ]
     },
     "execution_count": 7,
     "metadata": {},
     "output_type": "execute_result"
    }
   ],
   "source": [
    "# Etape 1 : ouvrir le fichier\n",
    "with open('data.txt', 'r') as f:\n",
    "    # Etape 2 : lire le fichier et creer un liste vide qui recevra les integers\n",
    "    data = f.readlines()\n",
    "    list_of_integers = []\n",
    "    \n",
    "    # Etape 3: iterer sur la liste, transformer la donne, l'ajouter a la liste propre.\n",
    "    for string in data:\n",
    "        list_of_integers.append(int(string.strip()))\n",
    "list_of_integers"
   ]
  },
  {
   "cell_type": "markdown",
   "id": "70a2d14b",
   "metadata": {},
   "source": [
    "# Question 7:\n",
    "\n",
    "Un texte (`string`) vous est fourni ci-dessous, portant sur des nouvelles financières. Votre tâche consiste à compter le nombre d'occurrences de chaque mot unique dans le texte et à stocker ces informations dans un dictionnaire. Les clés du dictionnaire doivent être les mots et les valeurs associées doivent être le nombre d'occurrences de chaque mots unique dans le texte.\n",
    "\n",
    "**Remarque** :\n",
    "il faut enlever les symboles suivants du texte avant de compter les occurences:\n",
    "- les apostrophes `'`, \n",
    "- les virgules `,`\n",
    "- les points `.`"
   ]
  },
  {
   "cell_type": "code",
   "execution_count": 8,
   "id": "a76e9210",
   "metadata": {},
   "outputs": [],
   "source": [
    "texte = \"\"\"Les marchés boursiers ont enregistré une forte hausse aujourd'hui,\n",
    "        avec des gains dans le secteur de la technologie et de l'énergie. \n",
    "        Les investisseurs surveillent de près les rapports trimestriels des grandes entreprises. \n",
    "        Les analystes prévoient des fluctuations des taux de change dans les prochaines semaines. \n",
    "        La Banque Centrale a annoncé une réduction de son taux directeur pour stimuler l'économie.\"\"\""
   ]
  },
  {
   "cell_type": "code",
   "execution_count": 9,
   "id": "ef4bb939",
   "metadata": {},
   "outputs": [
    {
     "name": "stdout",
     "output_type": "stream",
     "text": [
      "{'Les': 3, 'marchés': 1, 'boursiers': 1, 'ont': 1, 'enregistré': 1, 'une': 2, 'forte': 1, 'hausse': 1, 'aujourd': 1, 'hui': 1, 'avec': 1, 'des': 4, 'gains': 1, 'dans': 2, 'le': 1, 'secteur': 1, 'de': 5, 'la': 1, 'technologie': 1, 'et': 1, 'l': 2, 'énergie': 1, 'investisseurs': 1, 'surveillent': 1, 'près': 1, 'les': 2, 'rapports': 1, 'trimestriels': 1, 'grandes': 1, 'entreprises': 1, 'analystes': 1, 'prévoient': 1, 'fluctuations': 1, 'taux': 2, 'change': 1, 'prochaines': 1, 'semaines': 1, 'La': 1, 'Banque': 1, 'Centrale': 1, 'a': 1, 'annoncé': 1, 'réduction': 1, 'son': 1, 'directeur': 1, 'pour': 1, 'stimuler': 1, 'économie': 1}\n"
     ]
    }
   ],
   "source": [
    "# Compter les occurrences de chaque mot et stocker dans un dictionnaire\n",
    "texte = texte.replace(\"'\",\" \")\n",
    "mots = texte.split()\n",
    "occurrences = {}\n",
    "\n",
    "for mot in mots:\n",
    "    mot = mot.strip(\".,\")\n",
    "    if mot in occurrences:\n",
    "        occurrences[mot] += 1\n",
    "    else:\n",
    "        occurrences[mot] = 1\n",
    "\n",
    "print(occurrences)"
   ]
  },
  {
   "cell_type": "code",
   "execution_count": 10,
   "id": "703d462e",
   "metadata": {},
   "outputs": [
    {
     "name": "stdout",
     "output_type": "stream",
     "text": [
      "{'de': 5, 'des': 4, 'Les': 3, 'une': 2, 'dans': 2, 'l': 2, 'les': 2, 'taux': 2, 'marchés': 1, 'boursiers': 1, 'ont': 1, 'enregistré': 1, 'forte': 1, 'hausse': 1, 'aujourd': 1, 'hui': 1, 'avec': 1, 'gains': 1, 'le': 1, 'secteur': 1, 'la': 1, 'technologie': 1, 'et': 1, 'énergie': 1, 'investisseurs': 1, 'surveillent': 1, 'près': 1, 'rapports': 1, 'trimestriels': 1, 'grandes': 1, 'entreprises': 1, 'analystes': 1, 'prévoient': 1, 'fluctuations': 1, 'change': 1, 'prochaines': 1, 'semaines': 1, 'La': 1, 'Banque': 1, 'Centrale': 1, 'a': 1, 'annoncé': 1, 'réduction': 1, 'son': 1, 'directeur': 1, 'pour': 1, 'stimuler': 1, 'économie': 1}\n"
     ]
    }
   ],
   "source": [
    "# Ordonner les reponses (bonus question possible si le temps permet)\n",
    "occurrences_triees = dict(sorted(occurrences.items(), key=lambda item: item[1], reverse=True))\n",
    "print(occurrences_triees)"
   ]
  },
  {
   "cell_type": "markdown",
   "id": "8a57f04a",
   "metadata": {},
   "source": [
    "## Question 8:\n",
    "\n",
    "Giovani est un étudiant astucieux en informatique de l'université de Montréal. Afin de sauver un peu de sous, il met à profit ses connaissances algorithmiques en pariant avec ses amis qu'il peut deviner n'importe quel nombre aléatoire, choisi par eux, dans une fourchette allant de 1 à 1 000 000, en utilisant un maximum de 20 essais seulement.\n",
    "\n",
    "Le secret de l'astuce de Giovani réside dans l'application d'un procédé ingénieux qui lui permet de réduire le nombre d'essais nécessaires pour deviner le nombre choisi par ses amis (la `cible`), parmi tous les nombres possible entre 1 et 1 000 000 (la `plage`)\n",
    "\n",
    "Les regles du pari sont les suivantes :\n",
    "\n",
    "1. Les ami(e)s de Giovanni choisissent un chiffre aléatoire (`cible`) entre 1 et 1 000 000 (`plage`).\n",
    "2. Giovanni essaie de deviner la cible (il à 20 essais maximum) de la manière suivante :\n",
    "\n",
    "- Si l'élément du milieu de la `plage` est égal à la `cible`, nous avons trouvé le chiffre.\n",
    "- Si l'élément du milieu de la `plage` est plus petit que la `cible`, ses amis lui indique que la `cible` est plus grande que l'élément choisi et on élimine la moitié gauche de la liste pour se concentrer sur la moitié droite.\n",
    "- Si l'élément du milieu de la `plage` est plus grand que la `cible`, ses amis lui indique que la `cible` est plus petite que l'élément choisi et on élimine la moitié droite de la liste pour se concentrer sur la moitié gauche.\n",
    "\n",
    "En divisant constamment la liste en deux et en comparant l'élément du milieu de la `plage` avec la `cible`, Giovanni réduit considérablement le nombre de comparaisons nécessaires pour trouver le numéro cible. \n",
    "\n",
    "Codons maintenant cette astuce en partant du code suivant:\n"
   ]
  },
  {
   "cell_type": "code",
   "execution_count": 11,
   "id": "356bdc90",
   "metadata": {},
   "outputs": [],
   "source": [
    "def split_inteligent(plage, cible):\n",
    "    left, right = 0, len(plage) - 1\n",
    "    count = 0\n",
    "    while left <= right:\n",
    "        count += 1\n",
    "        mid = (left + right) // 2\n",
    "        \n",
    "        if plage[mid] == cible:\n",
    "            return plage[mid], mid, count\n",
    "        elif plage[mid] < cible:\n",
    "            left = mid + 1\n",
    "        else:\n",
    "            right = mid - 1\n",
    "    \n",
    "    return None, -1, count  # Si element non trouvé"
   ]
  },
  {
   "cell_type": "code",
   "execution_count": 44,
   "id": "839507d8",
   "metadata": {},
   "outputs": [
    {
     "name": "stdout",
     "output_type": "stream",
     "text": [
      "Le chiffre a trouver est 82549\n",
      "82549 trouvé à l'index 82548 : True. Il a fallu 15 itérations pour trouver l'élément.\n"
     ]
    }
   ],
   "source": [
    "import random\n",
    "\n",
    "# Exemple d'utilisation\n",
    "borne_supp = 1_000_000\n",
    "cible = random.randint(1, borne_supp)\n",
    "plage = list(range(1, borne_supp +1))\n",
    "print(f\"Le chiffre a trouver est {cible}\")\n",
    "\n",
    "solution, index, count = split_inteligent(plage, cible)\n",
    "\n",
    "if index != -1:\n",
    "    print(f\"{cible} trouvé à l'index {index} : {solution == cible}. Il a fallu {count} itérations pour trouver l'élément.\")\n",
    "else:\n",
    "    print(f\"{cible} n'a pas été trouvé dans la liste.\")"
   ]
  },
  {
   "cell_type": "markdown",
   "id": "50b1dd96",
   "metadata": {},
   "source": [
    "# Bonus! (a faire a la maison).\n",
    "## Question 4 (v2)"
   ]
  },
  {
   "cell_type": "markdown",
   "id": "8dc6029b",
   "metadata": {},
   "source": [
    "Vous avez une liste de noms d'étudiants : `['Bob', 'Mary', 'Jane', 'Rick', 'Peter', 'Marge']`.\n",
    "\n",
    "Votre tâche consiste à utiliser une boucle while pour permettre à l'utilisateur d'essayer autant de fois qu'il le souhaite de rentrer un nom. Vous devez vérifier si le nom entré par l'utilisateur est présent dans la liste d'étudiants (**Attention** : `bob` et `Bob` sont considéré comme étant le même nom, `Mary` et `mary` aussi...). \n",
    "\n",
    "Si le nom est présent dans la liste, vous devez écrire le message suivant dans un fichier texte nommé `prenoms.txt` en utilisant la commande with open :\n",
    "> \"Le nom `<nom_utilisateur>` est présent dans la liste d'étudiants\"\n",
    "\n",
    "Si le nom n'est pas présent dans la liste, vous devez écrire le message suivant dans `prenoms.txt`:\n",
    "> \"Le nom `<nom_utilisateur>` n'est pas présent dans la liste d'étudiants\"\n",
    "\n",
    "Finalement, demandez à l'utilisateur s'il souhaite essayer un autre nom. Si oui, continuez la boucle, sinon quittez la boucle.\n",
    "\n",
    "Vous devez écrire sur le fichier `prenoms.txt` de tel sorte à garder l'historique des messages de toutes les tentatives."
   ]
  },
  {
   "cell_type": "code",
   "execution_count": 5,
   "id": "ef791e83",
   "metadata": {},
   "outputs": [],
   "source": [
    "# Liste des noms d'étudiants\n",
    "etudiants = ['Bob', 'Mary', 'Jane', 'Rick', 'Peter', 'Marge']\n",
    "etudiants_lower = [student.lower() for student in etudiants]\n",
    "# Utiliser une boucle while pour permettre à l'utilisateur d'essayer plusieurs noms\n",
    "while True:\n",
    "    # Demander à l'utilisateur de rentrer un nom\n",
    "    nom_utilisateur = input(\"Entrez un nom : \")\n",
    "\n",
    "    # Convertir le nom en lettres minuscules\n",
    "    nom_utilisateur = nom_utilisateur.lower()\n",
    "\n",
    "    # Vérifier si le nom est présent dans la liste d'étudiants\n",
    "    if nom_utilisateur in etudiants_lower:\n",
    "        message = f\"Le nom {nom_utilisateur} est présent dans la liste d'étudiants\"\n",
    "    else:\n",
    "        message = f\"Le nom {nom_utilisateur} n'est pas présent dans la liste d'étudiants\"\n",
    "\n",
    "    # Écrire le message dans le fichier prenoms.txt en mode ajout\n",
    "    with open(\"prenoms.txt\", \"a\") as fichier:\n",
    "        fichier.write(message + '\\n')\n",
    "\n",
    "    continuer = input(\"Voulez-vous essayer un autre nom ? (oui/non) \")\n",
    "    if continuer.lower() != \"oui\":\n",
    "        break\n",
    "\n",
    "print(\"Opération terminée. Vérifiez le fichier prenoms.txt.\")"
   ]
  }
 ],
 "metadata": {
  "kernelspec": {
   "display_name": "openai",
   "language": "python",
   "name": "python3"
  },
  "language_info": {
   "codemirror_mode": {
    "name": "ipython",
    "version": 3
   },
   "file_extension": ".py",
   "mimetype": "text/x-python",
   "name": "python",
   "nbconvert_exporter": "python",
   "pygments_lexer": "ipython3",
   "version": "3.11.10"
  }
 },
 "nbformat": 4,
 "nbformat_minor": 5
}
