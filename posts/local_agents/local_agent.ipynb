{
 "cells": [
  {
   "cell_type": "raw",
   "metadata": {
    "vscode": {
     "languageId": "raw"
    }
   },
   "source": [
    "---\n",
    "title: Building Agents with Tools Locally\n",
    "date: 2025-02-21\n",
    "description: Building an AI Agent with tools locally using HuggingFace SmolAgents and Transformers Libraries\n",
    "categories: [tutorial, code]\n",
    "image: \"thumbnail.webp\"\n",
    "image-alt: \"V-LLM Generated Image : Cyberpunk Agent\"\n",
    "format:\n",
    "  html:\n",
    "    code-fold: true\n",
    "---\n"
   ]
  },
  {
   "cell_type": "markdown",
   "metadata": {},
   "source": [
    "![Cyberpunk Agent](main.webp \"\")"
   ]
  },
  {
   "cell_type": "markdown",
   "metadata": {
    "vscode": {
     "languageId": "raw"
    }
   },
   "source": [
    "### Introduction: Why AI Agents Matter\n",
    "<br>\n",
    "Before diving into the coding process, it's essential to understand the purpose of the program we aim to build. We need to identify the problem at hand and the business value we can derive from solving it...\n",
    "\n",
    "Lol, who am I kidding, we're not at work here, so let's focus on picking problems that are ***fun*** to solve and let the marketing people worry about value creation.\n",
    "\n",
    "Jokes aside, today our goal is to learn how to overcome the traditional limitations of Large Language Models (LLMs) by building Agents that are able to use *custom tools*.  \n",
    "\n",
    "While LLMs like GPT-4 are incredibly powerful and capable of performing various tasks such as answering questions, summarizing text, and reasoning about complex topics, they have **significant limitations** when used in isolation. What are those limitations, one may ask?\n",
    "\n",
    "\n",
    "1. **Lack of Real-Time Data**  \n",
    "   - LLMs are trained on static datasets and *cannot fetch live information* (e.g., stock prices, weather updates, or breaking news).  \n",
    "   - This leads to outdated or incomplete responses.  \n",
    "<br>\n",
    "2. **Inability to Perform Actions**  \n",
    "   - An LLM can tell you how to book a flight but *can’t actually book it*—it lacks the ability to interact with external systems.  \n",
    "   - Agents, on the other hand, can call APIs, interact with databases, and automate tasks.  \n",
    "<br>\n",
    "3. **Limited Memory & Context**  \n",
    "   - While LLMs have a context window, they *forget past interactions beyond a limit* and struggle with long-term tasks.  \n",
    "   - Agents can store and retrieve relevant information, improving coherence over long workflows.  \n",
    "<br>\n",
    "4. **Mathematical & Computational Weaknesses**  \n",
    "   - LLMs can make **math mistakes** or fail in complex computations.  \n",
    "   - Agents can call external computation tools (e.g., a Python script or a calculator API) for precise results.  \n"
   ]
  },
  {
   "cell_type": "markdown",
   "metadata": {},
   "source": [
    "\n",
    "#### **How Agents Solve These Problems**  \n",
    "*AI agents* address many of the limitations of traditional language models by integrating external tools, allowing for greater accuracy, real-time data retrieval, and interaction with external systems. In this tutorial, we will explore how to create and integrate custom tools with LLMs to build more robust and functional AI agents. \n",
    "\n",
    "Specifically, we will develop:\n",
    "\n",
    "- 🧮 Mathematical computation tools capable of producing precise results, overcoming the tendency of LLMs to generate incorrect numerical answers (with a clear example of ChatGPT's limitation that you can test against your Agent's tool) \n",
    "- 📈 Real-time stock market query tools to retrieve up-to-date financial information. \n",
    "- 🔍 Web-search tools to access the latest research and trends, ensuring information is current. \n",
    "\n",
    "All implementations will rely entirely on open-source libraries (big love to Hugging Face ❤️) and will run locally on a standard machine with no more than 12GB of VRAM. While many existing tutorials focus on cloud-based implementations via [HuggingFace's Serverless API](https://huggingface.co/docs/api-inference/en/index), I want to demonstrate how to get things running without relying on the cloud.\n",
    "\n"
   ]
  },
  {
   "cell_type": "markdown",
   "metadata": {},
   "source": [
    "## Building Open Source Agents using HuggingFace's SmolAgents\n"
   ]
  },
  {
   "cell_type": "markdown",
   "metadata": {},
   "source": [
    "To monitor GPU utilization in real-time, especially when running resource-intensive machine learning tasks, you can leverage the `nvidia-smi` command. On Ubuntu, simply uncomment and execute the following command in your terminal (provided that you have an Nvidia GPU):\n",
    "\n",
    "```bash\n",
    "watch -n 1 nvidia-smi\n",
    "```\n",
    "\n",
    "This command offers a live, updating snapshot of your GPU's performance, enabling you to monitor key metrics such as memory utilization and temperature. The `watch -n 1` component ensures that this information is refreshed every second. This is particularly useful for debugging, optimizing your machine learning workflows, and identifying specific commands or models that lead to critical \"Out Of Memory\" errors."
   ]
  },
  {
   "cell_type": "markdown",
   "metadata": {},
   "source": [
    "### Imports & Setup\n",
    "\n",
    "In this initial code block, we start by importing the necessary libraries to construct our local AI agent. Let's break down each import:\n",
    "\n",
    "- `typing`: We import `Any` from the `typing` module to provide type hints for our function signatures, which is a critical part of creating useful tools that our agents that use.\n",
    "\n",
    "- `smolagents`: From the `smolagents` library, we import:\n",
    "    - `Tool`: A base class for defining custom tools that our agent can use.\n",
    "    - `CodeAgent`: The core class for creating agents capable of generating and executing code.\n",
    "    - `TransformersModel`: A class to load and manage transformer models.\n",
    "    - `tool`: A decorator to easily register functions as tools for the agent.\n",
    "    - `DuckDuckGoSearchTool`: A pre-built tool that allows the agent to perform web searches using DuckDuckGo.\n",
    "- `transformers`: We import `AutoTokenizer` from the `transformers` library, which will be used to process text data for our models.\n",
    "- `yaml`: This library is imported to handle YAML configuration files, allowing us to define agent settings in a structured format.\n",
    "- `yfinance`: We import `yfinance` to fetch stock market data.\n",
    "- `datetime` and `pytz`: These are used for handling date and time information, which will be useful when working with financial data.\n",
    "\n",
    "These imports set the stage for building a powerful AI agent that can interact with its environment through code execution and web searches."
   ]
  },
  {
   "cell_type": "code",
   "execution_count": 12,
   "metadata": {},
   "outputs": [
    {
     "name": "stdout",
     "output_type": "stream",
     "text": [
      "You can see which dependencies are used for running this notebook by either simply hovering over <span style=\"text-decoration: underline dotted; cursor: help; color:rgb(255, 105, 230);\" title=\"markdownify\n",
      "smolagents\n",
      "requests\n",
      "duckduckgo_search\n",
      "pandas\n",
      "yfinance\">requirements.txt</span> or by visiting <a href=\"https://github.com/Jonathanmoatti/Jonathanmoatti.github.io/tree/main/posts/local_agents\">this blog post's GitHub page</a> and accessing the file.\n"
     ]
    }
   ],
   "source": [
    "#| echo: false\n",
    "#| output: asis\n",
    "with open('requirements.txt') as f:\n",
    "    requirements = f.read().strip()\n",
    "    \n",
    "print(f'You can see which dependencies are used for running this notebook by either simply hovering over <span style=\"text-decoration: underline dotted; cursor: help; color:rgb(255, 105, 230);\" title=\"{requirements}\">requirements.txt</span> or by visiting <a href=\"https://github.com/Jonathanmoatti/Jonathanmoatti.github.io/tree/main/posts/local_agents\">this blog post\\'s GitHub page</a> and accessing the file.')"
   ]
  },
  {
   "cell_type": "code",
   "execution_count": null,
   "metadata": {},
   "outputs": [],
   "source": [
    "from typing import Any\n",
    "from smolagents.tools import Tool\n",
    "from smolagents import CodeAgent, TransformersModel, tool, DuckDuckGoSearchTool\n",
    "from transformers import AutoTokenizer\n",
    "import yaml\n",
    "\n",
    "import yfinance as yf\n",
    "from datetime import datetime\n",
    "import pytz\n"
   ]
  },
  {
   "cell_type": "markdown",
   "metadata": {},
   "source": [
    "### Define your prompt template\n",
    "Load up the adequate yaml prompt template. This one is compatible with the smolagents library and the model we will use. It was taken directly from [HuggingFace's Agents Course](https://huggingface.co/agents-course)"
   ]
  },
  {
   "cell_type": "code",
   "execution_count": null,
   "metadata": {},
   "outputs": [],
   "source": [
    "# Setting up the predefined prompts\n",
    "with open(\"prompts.yaml\", 'r') as stream:\n",
    "    prompt_templates = yaml.safe_load(stream)"
   ]
  },
  {
   "cell_type": "markdown",
   "metadata": {},
   "source": [
    "### **Understanding AI Tool Creation with SmolAgents**\n",
    "\n",
    "When building AI agents, **defining tools properly is crucial** for ensuring smooth integration with frameworks like [SmolAgents](https://huggingface.co/docs/smolagents/en/index).  \n",
    "The first tool we will build today uses the `yfinance` library to check the status (price) of a given ticker on the North American stock market. \n",
    "\n",
    "#### **Creating your first tool**\n",
    "The function **`check_NA_market_status`** is decorated with `@tool`, marking it as a callable tool within the agent framework. This tool checks whether the stock market is open and returns the latest stock price if open, or the last closing price if closed.\n",
    "\n",
    "1. **Appropriate type-hinting is Essential**  \n",
    "   - The function takes a **single string argument (`ticker: str`)** and returns a **string (`-> str`)**.  \n",
    "   - This typing ensures that the agent understands the expected input and output format.  \n",
    "   - Without this, the function may not work correctly in an AI pipeline.\n",
    "\n",
    "2. **The Importance of a Docstring**  \n",
    "   - The function is documented with a **clear, structured docstring** explaining:  \n",
    "     - **What it does** (checks if the market is open and returns the appropriate stock price).  \n",
    "     - **What arguments it takes** (`ticker` – the stock ticker symbol).  \n",
    "     - **What it returns** (a formatted string with market status and price).  \n",
    "   - AI agents rely on this information to understand the function’s role. When/if you build your own tool, it is critical to keep the same docstring template for your code to be compatible with the smolagents library.\n",
    "\n",
    "\n",
    "\n",
    "##### **Key Takeaways for developping tools**\n",
    " \n",
    "\n",
    "- **Follow the function template:** Use clear type hints and structured docstrings.  \n",
    "- **Ensure proper decoration:** The `@tool` decorator registers the function within the SmolAgents framework.  \n",
    "- **Keep return types simple:** AI models parse these results, so returning formatted strings helps with interpretability.  \n",
    "\n",
    "This structured approach makes it easier for Agents to *call tools correctly, understand their functions, and use them effectively in reasoning and decision-making.*"
   ]
  },
  {
   "cell_type": "code",
   "execution_count": null,
   "metadata": {},
   "outputs": [],
   "source": [
    "from smolagents import tool\n",
    "# first tool\n",
    "@tool\n",
    "def check_NA_market_status(ticker: str) -> str:\n",
    "    \"\"\"\n",
    "    A tool that checks if the stock market is open for the given ticker and returns the current price if open,\n",
    "    or the previous close price if the market is closed.\n",
    "    Args:\n",
    "        ticker: The stock ticker symbol (e.g., 'AAPL', 'GOOG').\n",
    "    Returns:\n",
    "        A message indicating whether the market is open or closed, \n",
    "        and the price of the stock at the respective time.\n",
    "    \"\"\"\n",
    "\n",
    "    # Get the current time in Eastern Time Zone\n",
    "    eastern = pytz.timezone('US/Eastern')\n",
    "    now = datetime.now(eastern)\n",
    "    current_time = now.time()\n",
    "    current_day = now.weekday()  # Monday is 0 and Sunday is 6\n",
    "\n",
    "    market_open_time = datetime.strptime(\"09:30:00\", \"%H:%M:%S\").time()\n",
    "    market_close_time = datetime.strptime(\"16:00:00\", \"%H:%M:%S\").time()\n",
    "\n",
    "    if current_day < 5 and market_open_time <= current_time <= market_close_time:\n",
    "        stock = yf.Ticker(ticker)\n",
    "        # Request intraday data: 1-day period with 1-minute interval\n",
    "        current_price = stock.history(period=\"1d\", interval=\"1m\")['Close'].iloc[-1]\n",
    "        return f\"Market is open. Current price of {ticker}: ${current_price:.2f}\"\n",
    "    else:\n",
    "        stock = yf.Ticker(ticker)\n",
    "        previous_close = stock.history(period=\"1d\")['Close'].iloc[-1]\n",
    "        return f\"Market is closed. Previous close price of {ticker}: ${previous_close:.2f}\"\n",
    "\n"
   ]
  },
  {
   "cell_type": "markdown",
   "metadata": {},
   "source": [
    "\n",
    "\n",
    "### **Bypassing LLM's mathematical computation limitations**\n",
    "\n",
    "The `fibonacci_tool` function is a custom tool designed to compute the nth Fibonacci number. It is decorated with @tool, which allows it to be seamlessly integrated into an AI agent using the SmolAgents framework.\n",
    "\n",
    "LLMs, while powerful, often struggle with mathematical computations, especially recursive sequences like Fibonacci numbers. Instead of relying on the LLM's built-in reasoning (which often returns erroneous results even with the most powerful models like GPT-4o and o1 *try it for yourself*), this tool:\n",
    "\n",
    "1. Provides a deterministic and accurate calculation of Fibonacci numbers.\n",
    "2. Is significantly more efficient than recursive implementations, using an iterative approach to avoid excessive function calls.\n",
    "3. Ensures the AI agent always returns correct numerical results rather than relying on approximate or hallucinated values.\n",
    "<br>"
   ]
  },
  {
   "cell_type": "code",
   "execution_count": 5,
   "metadata": {},
   "outputs": [],
   "source": [
    "# second tool\n",
    "@tool\n",
    "def fibonacci_tool(n: int) -> int:\n",
    "    \"\"\"\n",
    "    A simple tool that returns the nth Fibonacci number.\n",
    "\n",
    "    Args:\n",
    "        n: The index of the Fibonacci sequence to retrieve (int)\n",
    "\n",
    "    Returns:\n",
    "        int: The nth Fibonacci number.\n",
    "    \"\"\"\n",
    "    if n <= 0:\n",
    "        return 0\n",
    "    elif n == 1:\n",
    "        return 1\n",
    "    else:\n",
    "        a, b = 0, 1\n",
    "        for _ in range(2, n + 1):\n",
    "            a, b = b, a + b\n",
    "        return b"
   ]
  },
  {
   "cell_type": "markdown",
   "metadata": {},
   "source": [
    "### **Bypassing the LLM's training date cutoff**\n",
    "\n",
    "Finally, we create a tool that leverages `DuckDuckGoSearch` to fetch up-to-date information from the web. \n",
    "\n",
    "This tool empowers our agent with the ability to quickly retrieve relevant information on demand. Since models training have cutoff dates, this tool will allow us to bypass this cutoff limitation by researching the web for up to date answers to any query we may have."
   ]
  },
  {
   "cell_type": "code",
   "execution_count": 6,
   "metadata": {},
   "outputs": [],
   "source": [
    "# third tool\n",
    "@tool\n",
    "def duckduckgo_search(query: str) -> str:\n",
    "    \"\"\"\n",
    "    A tool that performs a real-time DuckDuckGo search for the given query and returns the top results.\n",
    "    \n",
    "    Args:\n",
    "        query: The search query string (e.g., \"Latest AI research 2025\").\n",
    "        \n",
    "    Returns:\n",
    "        A string containing the search results. If the search tool returns a formatted string,\n",
    "        it is returned directly; otherwise, if it returns a list of dictionaries with 'title' and 'url'\n",
    "        keys, the results are formatted for readability.\n",
    "    \"\"\"\n",
    "    search_tool = DuckDuckGoSearchTool()\n",
    "    results = search_tool(query)\n",
    "    \n",
    "    if isinstance(results, str):\n",
    "        return results\n",
    "    \n",
    "    formatted_results = \"\\n\".join(\n",
    "        [f\"{item.get('title', 'No Title')} -> {item.get('url', 'No URL')}\" for item in results]\n",
    "    )\n",
    "    return formatted_results"
   ]
  },
  {
   "cell_type": "markdown",
   "metadata": {},
   "source": [
    "### Understanding the Final Answer Tool in AI Agents\n",
    "\n",
    "The `FinalAnswerTool` is a specialized tool used in AI agent frameworks to consolidate the reasoning process and provide a definitive response. Unlike other tools that fetch data or perform computations, this tool acts as a final step where the AI commits to a structured output.\n",
    "\n",
    "#### Why This Tool Is Important for AI Agents\n",
    "AI agents often go through multi-step reasoning before arriving at an answer. The `FinalAnswerTool` helps in:\n",
    "\n",
    "1. Ensuring a structured final response\n",
    "    - Instead of returning intermediate steps, the agent commits to a well-defined answer.\n",
    "\n",
    "2. Improving interpretability\n",
    "    - By using a dedicated final output tool, responses become more consistent and easier to process.\n",
    "\n",
    "3. Integrating seamlessly into pipelines\n",
    "\n",
    "    - Many agent frameworks expect a clear final output format—this tool standardizes the output handling.\n",
    "\n",
    "When designing AI agents, tools like this help bridge the gap between reasoning and action, making interactions smoother and more reliable."
   ]
  },
  {
   "cell_type": "code",
   "execution_count": 7,
   "metadata": {},
   "outputs": [],
   "source": [
    "# final answer class tool used after reasoning\n",
    "class FinalAnswerTool(Tool):\n",
    "    name = \"final_answer\"\n",
    "    description = \"Provides a final answer to the given problem.\"\n",
    "    inputs = {'answer': {'type': 'any', 'description': 'The final answer to the problem'}}\n",
    "    output_type = \"any\"\n",
    "\n",
    "    def forward(self, answer: Any) -> Any:\n",
    "        return answer\n",
    "\n",
    "    def __init__(self, *args, **kwargs):\n",
    "        self.is_initialized = False\n",
    "\n",
    "# instanciate tool\n",
    "final_answer = FinalAnswerTool()"
   ]
  },
  {
   "cell_type": "markdown",
   "metadata": {},
   "source": [
    "### Picking our LLM and initializing it.\n",
    "\n",
    "To instanciate our agent, we must first create a model instance by setting up a specific `TransformersModel` and its tokenizer (with CUDA enabled and controlled token limits). "
   ]
  },
  {
   "cell_type": "code",
   "execution_count": null,
   "metadata": {},
   "outputs": [],
   "source": [
    "# pick a model and instanciate it\n",
    "# model_name= \"HuggingFaceTB/SmolLM2-360M-Instruct\"\n",
    "model_name=\"HuggingFaceTB/SmolLM2-1.7B-Instruct\"\n",
    "# model_name = \"HuggingFaceTB/SmolLM-135M-Instruct\"\n",
    "model = TransformersModel(model_id=model_name, device_map=\"auto\", max_new_tokens=200)"
   ]
  },
  {
   "cell_type": "markdown",
   "metadata": {},
   "source": [
    "### Creating an AI Agent with Custom Tools\n",
    "Now that we've built our individual tools, the next step is assembling them into an AI agent. This is done using the `CodeAgent` class, which takes a language model (model), a set of tools, and other parameters to define its behavior.\n",
    "\n",
    "**Key Components of the AI Agent:**\n",
    "\n",
    "1. `Model` (model) – The LLM that powers the agent’s reasoning and decision-making.\n",
    "2. `Tools` (tools) – A list of functions the agent can use to extend its capabilities.\n",
    "3. `Max Steps` (max_steps=6) – Limits how many steps the agent can take before finalizing an answer.\n",
    "4. `Verbosity` (verbosity_level=1) – Controls the level of detail in logs/debugging output.\n",
    "5. `Prompt Templates` (prompt_templates) – Provides structured instructions for the agent’s behavior."
   ]
  },
  {
   "cell_type": "code",
   "execution_count": 8,
   "metadata": {},
   "outputs": [],
   "source": [
    "# finaly, create the agent and pass the model, tools, number of steps it should reflect for, prompt template...ect\n",
    "\n",
    "agent = CodeAgent(\n",
    "    model=model,\n",
    "    tools=[final_answer,fibonacci_tool, check_NA_market_status, duckduckgo_search], ## add your tools here (don't remove final answer)\n",
    "    max_steps=6,\n",
    "    verbosity_level=1,\n",
    "    grammar=None,\n",
    "    planning_interval=None,\n",
    "    name=None,\n",
    "    description=None,\n",
    "    prompt_templates=prompt_templates\n",
    ")"
   ]
  },
  {
   "cell_type": "markdown",
   "metadata": {},
   "source": [
    "Finally, we query our `agent` by passing in our queries to the `.run()` method."
   ]
  },
  {
   "cell_type": "code",
   "execution_count": 10,
   "metadata": {},
   "outputs": [
    {
     "data": {
      "text/html": [
       "<pre style=\"white-space:pre;overflow-x:auto;line-height:normal;font-family:Menlo,'DejaVu Sans Mono',consolas,'Courier New',monospace\"><span style=\"color: #d4b702; text-decoration-color: #d4b702\">╭──────────────────────────────────────────────────── </span><span style=\"color: #d4b702; text-decoration-color: #d4b702; font-weight: bold\">New run</span><span style=\"color: #d4b702; text-decoration-color: #d4b702\"> ────────────────────────────────────────────────────╮</span>\n",
       "<span style=\"color: #d4b702; text-decoration-color: #d4b702\">│</span>                                                                                                                 <span style=\"color: #d4b702; text-decoration-color: #d4b702\">│</span>\n",
       "<span style=\"color: #d4b702; text-decoration-color: #d4b702\">│</span> <span style=\"font-weight: bold\">Could you give me the 118th number in the Fibonacci sequence?</span>                                                   <span style=\"color: #d4b702; text-decoration-color: #d4b702\">│</span>\n",
       "<span style=\"color: #d4b702; text-decoration-color: #d4b702\">│</span>                                                                                                                 <span style=\"color: #d4b702; text-decoration-color: #d4b702\">│</span>\n",
       "<span style=\"color: #d4b702; text-decoration-color: #d4b702\">╰─ TransformersModel - HuggingFaceTB/SmolLM2-1.7B-Instruct ───────────────────────────────────────────────────────╯</span>\n",
       "</pre>\n"
      ],
      "text/plain": [
       "\u001b[38;2;212;183;2m╭─\u001b[0m\u001b[38;2;212;183;2m───────────────────────────────────────────────────\u001b[0m\u001b[38;2;212;183;2m \u001b[0m\u001b[1;38;2;212;183;2mNew run\u001b[0m\u001b[38;2;212;183;2m \u001b[0m\u001b[38;2;212;183;2m───────────────────────────────────────────────────\u001b[0m\u001b[38;2;212;183;2m─╮\u001b[0m\n",
       "\u001b[38;2;212;183;2m│\u001b[0m                                                                                                                 \u001b[38;2;212;183;2m│\u001b[0m\n",
       "\u001b[38;2;212;183;2m│\u001b[0m \u001b[1mCould you give me the 118th number in the Fibonacci sequence?\u001b[0m                                                   \u001b[38;2;212;183;2m│\u001b[0m\n",
       "\u001b[38;2;212;183;2m│\u001b[0m                                                                                                                 \u001b[38;2;212;183;2m│\u001b[0m\n",
       "\u001b[38;2;212;183;2m╰─\u001b[0m\u001b[38;2;212;183;2m TransformersModel - HuggingFaceTB/SmolLM2-1.7B-Instruct \u001b[0m\u001b[38;2;212;183;2m──────────────────────────────────────────────────────\u001b[0m\u001b[38;2;212;183;2m─╯\u001b[0m\n"
      ]
     },
     "metadata": {},
     "output_type": "display_data"
    },
    {
     "data": {
      "text/html": [
       "<pre style=\"white-space:pre;overflow-x:auto;line-height:normal;font-family:Menlo,'DejaVu Sans Mono',consolas,'Courier New',monospace\"><span style=\"color: #d4b702; text-decoration-color: #d4b702\">━━━━━━━━━━━━━━━━━━━━━━━━━━━━━━━━━━━━━━━━━━━━━━━━━━━━━ </span><span style=\"font-weight: bold\">Step </span><span style=\"color: #008080; text-decoration-color: #008080; font-weight: bold\">1</span><span style=\"color: #d4b702; text-decoration-color: #d4b702\"> ━━━━━━━━━━━━━━━━━━━━━━━━━━━━━━━━━━━━━━━━━━━━━━━━━━━━━━</span>\n",
       "</pre>\n"
      ],
      "text/plain": [
       "\u001b[38;2;212;183;2m━━━━━━━━━━━━━━━━━━━━━━━━━━━━━━━━━━━━━━━━━━━━━━━━━━━━━ \u001b[0m\u001b[1mStep \u001b[0m\u001b[1;36m1\u001b[0m\u001b[38;2;212;183;2m ━━━━━━━━━━━━━━━━━━━━━━━━━━━━━━━━━━━━━━━━━━━━━━━━━━━━━━\u001b[0m\n"
      ]
     },
     "metadata": {},
     "output_type": "display_data"
    },
    {
     "data": {
      "text/html": [
       "<pre style=\"white-space:pre;overflow-x:auto;line-height:normal;font-family:Menlo,'DejaVu Sans Mono',consolas,'Courier New',monospace\"> ─ <span style=\"font-weight: bold\">Executing parsed code:</span> ──────────────────────────────────────────────────────────────────────────────────────── \n",
       "  <span style=\"color: #f8f8f2; text-decoration-color: #f8f8f2; background-color: #272822\">answer </span><span style=\"color: #ff4689; text-decoration-color: #ff4689; background-color: #272822\">=</span><span style=\"color: #f8f8f2; text-decoration-color: #f8f8f2; background-color: #272822\"> fibonacci_tool(n</span><span style=\"color: #ff4689; text-decoration-color: #ff4689; background-color: #272822\">=</span><span style=\"color: #ae81ff; text-decoration-color: #ae81ff; background-color: #272822\">118</span><span style=\"color: #f8f8f2; text-decoration-color: #f8f8f2; background-color: #272822\">)</span><span style=\"background-color: #272822\">                                                                                 </span>  \n",
       "  <span style=\"color: #f8f8f2; text-decoration-color: #f8f8f2; background-color: #272822\">final_answer(answer)</span><span style=\"background-color: #272822\">                                                                                           </span>  \n",
       " ───────────────────────────────────────────────────────────────────────────────────────────────────────────────── \n",
       "</pre>\n"
      ],
      "text/plain": [
       " ─ \u001b[1mExecuting parsed code:\u001b[0m ──────────────────────────────────────────────────────────────────────────────────────── \n",
       "  \u001b[38;2;248;248;242;48;2;39;40;34manswer\u001b[0m\u001b[38;2;248;248;242;48;2;39;40;34m \u001b[0m\u001b[38;2;255;70;137;48;2;39;40;34m=\u001b[0m\u001b[38;2;248;248;242;48;2;39;40;34m \u001b[0m\u001b[38;2;248;248;242;48;2;39;40;34mfibonacci_tool\u001b[0m\u001b[38;2;248;248;242;48;2;39;40;34m(\u001b[0m\u001b[38;2;248;248;242;48;2;39;40;34mn\u001b[0m\u001b[38;2;255;70;137;48;2;39;40;34m=\u001b[0m\u001b[38;2;174;129;255;48;2;39;40;34m118\u001b[0m\u001b[38;2;248;248;242;48;2;39;40;34m)\u001b[0m\u001b[48;2;39;40;34m                                                                                 \u001b[0m  \n",
       "  \u001b[38;2;248;248;242;48;2;39;40;34mfinal_answer\u001b[0m\u001b[38;2;248;248;242;48;2;39;40;34m(\u001b[0m\u001b[38;2;248;248;242;48;2;39;40;34manswer\u001b[0m\u001b[38;2;248;248;242;48;2;39;40;34m)\u001b[0m\u001b[48;2;39;40;34m                                                                                           \u001b[0m  \n",
       " ───────────────────────────────────────────────────────────────────────────────────────────────────────────────── \n"
      ]
     },
     "metadata": {},
     "output_type": "display_data"
    },
    {
     "data": {
      "text/html": [
       "<pre style=\"white-space:pre;overflow-x:auto;line-height:normal;font-family:Menlo,'DejaVu Sans Mono',consolas,'Courier New',monospace\"><span style=\"color: #d4b702; text-decoration-color: #d4b702; font-weight: bold\">Out - Final answer: 2046711111473984623691759</span>\n",
       "</pre>\n"
      ],
      "text/plain": [
       "\u001b[1;38;2;212;183;2mOut - Final answer: 2046711111473984623691759\u001b[0m\n"
      ]
     },
     "metadata": {},
     "output_type": "display_data"
    },
    {
     "data": {
      "text/html": [
       "<pre style=\"white-space:pre;overflow-x:auto;line-height:normal;font-family:Menlo,'DejaVu Sans Mono',consolas,'Courier New',monospace\"><span style=\"color: #7f7f7f; text-decoration-color: #7f7f7f\">[Step 0: Duration 4.45 seconds| Input tokens: 2,511 | Output tokens: 63]</span>\n",
       "</pre>\n"
      ],
      "text/plain": [
       "\u001b[2m[Step 0: Duration 4.45 seconds| Input tokens: 2,511 | Output tokens: 63]\u001b[0m\n"
      ]
     },
     "metadata": {},
     "output_type": "display_data"
    },
    {
     "name": "stdout",
     "output_type": "stream",
     "text": [
      "CodeAgent: 2046711111473984623691759\n"
     ]
    }
   ],
   "source": [
    "print(\"CodeAgent:\", agent.run(\"Could you give me the 118th number in the Fibonacci sequence?\"))"
   ]
  },
  {
   "cell_type": "code",
   "execution_count": 11,
   "metadata": {},
   "outputs": [
    {
     "data": {
      "text/html": [
       "<pre style=\"white-space:pre;overflow-x:auto;line-height:normal;font-family:Menlo,'DejaVu Sans Mono',consolas,'Courier New',monospace\"><span style=\"color: #d4b702; text-decoration-color: #d4b702\">╭──────────────────────────────────────────────────── </span><span style=\"color: #d4b702; text-decoration-color: #d4b702; font-weight: bold\">New run</span><span style=\"color: #d4b702; text-decoration-color: #d4b702\"> ────────────────────────────────────────────────────╮</span>\n",
       "<span style=\"color: #d4b702; text-decoration-color: #d4b702\">│</span>                                                                                                                 <span style=\"color: #d4b702; text-decoration-color: #d4b702\">│</span>\n",
       "<span style=\"color: #d4b702; text-decoration-color: #d4b702\">│</span> <span style=\"font-weight: bold\">Could you give me the current market price of the stock VEQT.TO?</span>                                                <span style=\"color: #d4b702; text-decoration-color: #d4b702\">│</span>\n",
       "<span style=\"color: #d4b702; text-decoration-color: #d4b702\">│</span>                                                                                                                 <span style=\"color: #d4b702; text-decoration-color: #d4b702\">│</span>\n",
       "<span style=\"color: #d4b702; text-decoration-color: #d4b702\">╰─ TransformersModel - HuggingFaceTB/SmolLM2-1.7B-Instruct ───────────────────────────────────────────────────────╯</span>\n",
       "</pre>\n"
      ],
      "text/plain": [
       "\u001b[38;2;212;183;2m╭─\u001b[0m\u001b[38;2;212;183;2m───────────────────────────────────────────────────\u001b[0m\u001b[38;2;212;183;2m \u001b[0m\u001b[1;38;2;212;183;2mNew run\u001b[0m\u001b[38;2;212;183;2m \u001b[0m\u001b[38;2;212;183;2m───────────────────────────────────────────────────\u001b[0m\u001b[38;2;212;183;2m─╮\u001b[0m\n",
       "\u001b[38;2;212;183;2m│\u001b[0m                                                                                                                 \u001b[38;2;212;183;2m│\u001b[0m\n",
       "\u001b[38;2;212;183;2m│\u001b[0m \u001b[1mCould you give me the current market price of the stock VEQT.TO?\u001b[0m                                                \u001b[38;2;212;183;2m│\u001b[0m\n",
       "\u001b[38;2;212;183;2m│\u001b[0m                                                                                                                 \u001b[38;2;212;183;2m│\u001b[0m\n",
       "\u001b[38;2;212;183;2m╰─\u001b[0m\u001b[38;2;212;183;2m TransformersModel - HuggingFaceTB/SmolLM2-1.7B-Instruct \u001b[0m\u001b[38;2;212;183;2m──────────────────────────────────────────────────────\u001b[0m\u001b[38;2;212;183;2m─╯\u001b[0m\n"
      ]
     },
     "metadata": {},
     "output_type": "display_data"
    },
    {
     "data": {
      "text/html": [
       "<pre style=\"white-space:pre;overflow-x:auto;line-height:normal;font-family:Menlo,'DejaVu Sans Mono',consolas,'Courier New',monospace\"><span style=\"color: #d4b702; text-decoration-color: #d4b702\">━━━━━━━━━━━━━━━━━━━━━━━━━━━━━━━━━━━━━━━━━━━━━━━━━━━━━ </span><span style=\"font-weight: bold\">Step </span><span style=\"color: #008080; text-decoration-color: #008080; font-weight: bold\">1</span><span style=\"color: #d4b702; text-decoration-color: #d4b702\"> ━━━━━━━━━━━━━━━━━━━━━━━━━━━━━━━━━━━━━━━━━━━━━━━━━━━━━━</span>\n",
       "</pre>\n"
      ],
      "text/plain": [
       "\u001b[38;2;212;183;2m━━━━━━━━━━━━━━━━━━━━━━━━━━━━━━━━━━━━━━━━━━━━━━━━━━━━━ \u001b[0m\u001b[1mStep \u001b[0m\u001b[1;36m1\u001b[0m\u001b[38;2;212;183;2m ━━━━━━━━━━━━━━━━━━━━━━━━━━━━━━━━━━━━━━━━━━━━━━━━━━━━━━\u001b[0m\n"
      ]
     },
     "metadata": {},
     "output_type": "display_data"
    },
    {
     "data": {
      "text/html": [
       "<pre style=\"white-space:pre;overflow-x:auto;line-height:normal;font-family:Menlo,'DejaVu Sans Mono',consolas,'Courier New',monospace\"> ─ <span style=\"font-weight: bold\">Executing parsed code:</span> ──────────────────────────────────────────────────────────────────────────────────────── \n",
       "  <span style=\"color: #f8f8f2; text-decoration-color: #f8f8f2; background-color: #272822\">ticker </span><span style=\"color: #ff4689; text-decoration-color: #ff4689; background-color: #272822\">=</span><span style=\"color: #f8f8f2; text-decoration-color: #f8f8f2; background-color: #272822\"> </span><span style=\"color: #e6db74; text-decoration-color: #e6db74; background-color: #272822\">\"VEQT.TO\"</span><span style=\"background-color: #272822\">                                                                                             </span>  \n",
       "  <span style=\"color: #f8f8f2; text-decoration-color: #f8f8f2; background-color: #272822\">current_price </span><span style=\"color: #ff4689; text-decoration-color: #ff4689; background-color: #272822\">=</span><span style=\"color: #f8f8f2; text-decoration-color: #f8f8f2; background-color: #272822\"> check_NA_market_status(ticker</span><span style=\"color: #ff4689; text-decoration-color: #ff4689; background-color: #272822\">=</span><span style=\"color: #f8f8f2; text-decoration-color: #f8f8f2; background-color: #272822\">ticker)</span><span style=\"background-color: #272822\">                                                          </span>  \n",
       "  <span style=\"color: #f8f8f2; text-decoration-color: #f8f8f2; background-color: #272822\">final_answer(current_price)</span><span style=\"background-color: #272822\">                                                                                    </span>  \n",
       " ───────────────────────────────────────────────────────────────────────────────────────────────────────────────── \n",
       "</pre>\n"
      ],
      "text/plain": [
       " ─ \u001b[1mExecuting parsed code:\u001b[0m ──────────────────────────────────────────────────────────────────────────────────────── \n",
       "  \u001b[38;2;248;248;242;48;2;39;40;34mticker\u001b[0m\u001b[38;2;248;248;242;48;2;39;40;34m \u001b[0m\u001b[38;2;255;70;137;48;2;39;40;34m=\u001b[0m\u001b[38;2;248;248;242;48;2;39;40;34m \u001b[0m\u001b[38;2;230;219;116;48;2;39;40;34m\"\u001b[0m\u001b[38;2;230;219;116;48;2;39;40;34mVEQT.TO\u001b[0m\u001b[38;2;230;219;116;48;2;39;40;34m\"\u001b[0m\u001b[48;2;39;40;34m                                                                                             \u001b[0m  \n",
       "  \u001b[38;2;248;248;242;48;2;39;40;34mcurrent_price\u001b[0m\u001b[38;2;248;248;242;48;2;39;40;34m \u001b[0m\u001b[38;2;255;70;137;48;2;39;40;34m=\u001b[0m\u001b[38;2;248;248;242;48;2;39;40;34m \u001b[0m\u001b[38;2;248;248;242;48;2;39;40;34mcheck_NA_market_status\u001b[0m\u001b[38;2;248;248;242;48;2;39;40;34m(\u001b[0m\u001b[38;2;248;248;242;48;2;39;40;34mticker\u001b[0m\u001b[38;2;255;70;137;48;2;39;40;34m=\u001b[0m\u001b[38;2;248;248;242;48;2;39;40;34mticker\u001b[0m\u001b[38;2;248;248;242;48;2;39;40;34m)\u001b[0m\u001b[48;2;39;40;34m                                                          \u001b[0m  \n",
       "  \u001b[38;2;248;248;242;48;2;39;40;34mfinal_answer\u001b[0m\u001b[38;2;248;248;242;48;2;39;40;34m(\u001b[0m\u001b[38;2;248;248;242;48;2;39;40;34mcurrent_price\u001b[0m\u001b[38;2;248;248;242;48;2;39;40;34m)\u001b[0m\u001b[48;2;39;40;34m                                                                                    \u001b[0m  \n",
       " ───────────────────────────────────────────────────────────────────────────────────────────────────────────────── \n"
      ]
     },
     "metadata": {},
     "output_type": "display_data"
    },
    {
     "data": {
      "text/html": [
       "<pre style=\"white-space:pre;overflow-x:auto;line-height:normal;font-family:Menlo,'DejaVu Sans Mono',consolas,'Courier New',monospace\"><span style=\"color: #d4b702; text-decoration-color: #d4b702; font-weight: bold\">Out - Final answer: Market is open. Current price of VEQT.TO: $46.64</span>\n",
       "</pre>\n"
      ],
      "text/plain": [
       "\u001b[1;38;2;212;183;2mOut - Final answer: Market is open. Current price of VEQT.TO: $46.64\u001b[0m\n"
      ]
     },
     "metadata": {},
     "output_type": "display_data"
    },
    {
     "data": {
      "text/html": [
       "<pre style=\"white-space:pre;overflow-x:auto;line-height:normal;font-family:Menlo,'DejaVu Sans Mono',consolas,'Courier New',monospace\"><span style=\"color: #7f7f7f; text-decoration-color: #7f7f7f\">[Step 0: Duration 6.54 seconds| Input tokens: 2,512 | Output tokens: 102]</span>\n",
       "</pre>\n"
      ],
      "text/plain": [
       "\u001b[2m[Step 0: Duration 6.54 seconds| Input tokens: 2,512 | Output tokens: 102]\u001b[0m\n"
      ]
     },
     "metadata": {},
     "output_type": "display_data"
    },
    {
     "name": "stdout",
     "output_type": "stream",
     "text": [
      "CodeAgent: Market is open. Current price of VEQT.TO: $46.64\n"
     ]
    }
   ],
   "source": [
    "print(\"CodeAgent:\", agent.run(\"Could you give me the current market price of the stock VEQT.TO?\"))"
   ]
  },
  {
   "cell_type": "code",
   "execution_count": 9,
   "metadata": {},
   "outputs": [
    {
     "data": {
      "text/html": [
       "<pre style=\"white-space:pre;overflow-x:auto;line-height:normal;font-family:Menlo,'DejaVu Sans Mono',consolas,'Courier New',monospace\"><span style=\"color: #d4b702; text-decoration-color: #d4b702\">╭──────────────────────────────────────────────────── </span><span style=\"color: #d4b702; text-decoration-color: #d4b702; font-weight: bold\">New run</span><span style=\"color: #d4b702; text-decoration-color: #d4b702\"> ────────────────────────────────────────────────────╮</span>\n",
       "<span style=\"color: #d4b702; text-decoration-color: #d4b702\">│</span>                                                                                                                 <span style=\"color: #d4b702; text-decoration-color: #d4b702\">│</span>\n",
       "<span style=\"color: #d4b702; text-decoration-color: #d4b702\">│</span> <span style=\"font-weight: bold\">Could you search the web for the latest AI research in 2025</span>                                                     <span style=\"color: #d4b702; text-decoration-color: #d4b702\">│</span>\n",
       "<span style=\"color: #d4b702; text-decoration-color: #d4b702\">│</span>                                                                                                                 <span style=\"color: #d4b702; text-decoration-color: #d4b702\">│</span>\n",
       "<span style=\"color: #d4b702; text-decoration-color: #d4b702\">╰─ TransformersModel - HuggingFaceTB/SmolLM2-1.7B-Instruct ───────────────────────────────────────────────────────╯</span>\n",
       "</pre>\n"
      ],
      "text/plain": [
       "\u001b[38;2;212;183;2m╭─\u001b[0m\u001b[38;2;212;183;2m───────────────────────────────────────────────────\u001b[0m\u001b[38;2;212;183;2m \u001b[0m\u001b[1;38;2;212;183;2mNew run\u001b[0m\u001b[38;2;212;183;2m \u001b[0m\u001b[38;2;212;183;2m───────────────────────────────────────────────────\u001b[0m\u001b[38;2;212;183;2m─╮\u001b[0m\n",
       "\u001b[38;2;212;183;2m│\u001b[0m                                                                                                                 \u001b[38;2;212;183;2m│\u001b[0m\n",
       "\u001b[38;2;212;183;2m│\u001b[0m \u001b[1mCould you search the web for the latest AI research in 2025\u001b[0m                                                     \u001b[38;2;212;183;2m│\u001b[0m\n",
       "\u001b[38;2;212;183;2m│\u001b[0m                                                                                                                 \u001b[38;2;212;183;2m│\u001b[0m\n",
       "\u001b[38;2;212;183;2m╰─\u001b[0m\u001b[38;2;212;183;2m TransformersModel - HuggingFaceTB/SmolLM2-1.7B-Instruct \u001b[0m\u001b[38;2;212;183;2m──────────────────────────────────────────────────────\u001b[0m\u001b[38;2;212;183;2m─╯\u001b[0m\n"
      ]
     },
     "metadata": {},
     "output_type": "display_data"
    },
    {
     "data": {
      "text/html": [
       "<pre style=\"white-space:pre;overflow-x:auto;line-height:normal;font-family:Menlo,'DejaVu Sans Mono',consolas,'Courier New',monospace\"><span style=\"color: #d4b702; text-decoration-color: #d4b702\">━━━━━━━━━━━━━━━━━━━━━━━━━━━━━━━━━━━━━━━━━━━━━━━━━━━━━ </span><span style=\"font-weight: bold\">Step </span><span style=\"color: #008080; text-decoration-color: #008080; font-weight: bold\">1</span><span style=\"color: #d4b702; text-decoration-color: #d4b702\"> ━━━━━━━━━━━━━━━━━━━━━━━━━━━━━━━━━━━━━━━━━━━━━━━━━━━━━━</span>\n",
       "</pre>\n"
      ],
      "text/plain": [
       "\u001b[38;2;212;183;2m━━━━━━━━━━━━━━━━━━━━━━━━━━━━━━━━━━━━━━━━━━━━━━━━━━━━━ \u001b[0m\u001b[1mStep \u001b[0m\u001b[1;36m1\u001b[0m\u001b[38;2;212;183;2m ━━━━━━━━━━━━━━━━━━━━━━━━━━━━━━━━━━━━━━━━━━━━━━━━━━━━━━\u001b[0m\n"
      ]
     },
     "metadata": {},
     "output_type": "display_data"
    },
    {
     "data": {
      "text/html": [
       "<pre style=\"white-space:pre;overflow-x:auto;line-height:normal;font-family:Menlo,'DejaVu Sans Mono',consolas,'Courier New',monospace\"> ─ <span style=\"font-weight: bold\">Executing parsed code:</span> ──────────────────────────────────────────────────────────────────────────────────────── \n",
       "  <span style=\"color: #f8f8f2; text-decoration-color: #f8f8f2; background-color: #272822\">query </span><span style=\"color: #ff4689; text-decoration-color: #ff4689; background-color: #272822\">=</span><span style=\"color: #f8f8f2; text-decoration-color: #f8f8f2; background-color: #272822\"> </span><span style=\"color: #e6db74; text-decoration-color: #e6db74; background-color: #272822\">\"Latest AI research 2025\"</span><span style=\"background-color: #272822\">                                                                              </span>  \n",
       "  <span style=\"color: #f8f8f2; text-decoration-color: #f8f8f2; background-color: #272822\">answer </span><span style=\"color: #ff4689; text-decoration-color: #ff4689; background-color: #272822\">=</span><span style=\"color: #f8f8f2; text-decoration-color: #f8f8f2; background-color: #272822\"> duckduckgo_search(query</span><span style=\"color: #ff4689; text-decoration-color: #ff4689; background-color: #272822\">=</span><span style=\"color: #f8f8f2; text-decoration-color: #f8f8f2; background-color: #272822\">query)</span><span style=\"background-color: #272822\">                                                                        </span>  \n",
       "  <span style=\"color: #f8f8f2; text-decoration-color: #f8f8f2; background-color: #272822\">final_answer(answer)</span><span style=\"background-color: #272822\">                                                                                           </span>  \n",
       " ───────────────────────────────────────────────────────────────────────────────────────────────────────────────── \n",
       "</pre>\n"
      ],
      "text/plain": [
       " ─ \u001b[1mExecuting parsed code:\u001b[0m ──────────────────────────────────────────────────────────────────────────────────────── \n",
       "  \u001b[38;2;248;248;242;48;2;39;40;34mquery\u001b[0m\u001b[38;2;248;248;242;48;2;39;40;34m \u001b[0m\u001b[38;2;255;70;137;48;2;39;40;34m=\u001b[0m\u001b[38;2;248;248;242;48;2;39;40;34m \u001b[0m\u001b[38;2;230;219;116;48;2;39;40;34m\"\u001b[0m\u001b[38;2;230;219;116;48;2;39;40;34mLatest AI research 2025\u001b[0m\u001b[38;2;230;219;116;48;2;39;40;34m\"\u001b[0m\u001b[48;2;39;40;34m                                                                              \u001b[0m  \n",
       "  \u001b[38;2;248;248;242;48;2;39;40;34manswer\u001b[0m\u001b[38;2;248;248;242;48;2;39;40;34m \u001b[0m\u001b[38;2;255;70;137;48;2;39;40;34m=\u001b[0m\u001b[38;2;248;248;242;48;2;39;40;34m \u001b[0m\u001b[38;2;248;248;242;48;2;39;40;34mduckduckgo_search\u001b[0m\u001b[38;2;248;248;242;48;2;39;40;34m(\u001b[0m\u001b[38;2;248;248;242;48;2;39;40;34mquery\u001b[0m\u001b[38;2;255;70;137;48;2;39;40;34m=\u001b[0m\u001b[38;2;248;248;242;48;2;39;40;34mquery\u001b[0m\u001b[38;2;248;248;242;48;2;39;40;34m)\u001b[0m\u001b[48;2;39;40;34m                                                                        \u001b[0m  \n",
       "  \u001b[38;2;248;248;242;48;2;39;40;34mfinal_answer\u001b[0m\u001b[38;2;248;248;242;48;2;39;40;34m(\u001b[0m\u001b[38;2;248;248;242;48;2;39;40;34manswer\u001b[0m\u001b[38;2;248;248;242;48;2;39;40;34m)\u001b[0m\u001b[48;2;39;40;34m                                                                                           \u001b[0m  \n",
       " ───────────────────────────────────────────────────────────────────────────────────────────────────────────────── \n"
      ]
     },
     "metadata": {},
     "output_type": "display_data"
    },
    {
     "data": {
      "text/html": [
       "<pre style=\"white-space:pre;overflow-x:auto;line-height:normal;font-family:Menlo,'DejaVu Sans Mono',consolas,'Courier New',monospace\"><span style=\"color: #d4b702; text-decoration-color: #d4b702; font-weight: bold\">Out - Final answer: ## Search Results</span>\n",
       "\n",
       "<span style=\"color: #d4b702; text-decoration-color: #d4b702; font-weight: bold\">[The 10 Biggest AI Trends Of 2025 Everyone Must Be Ready For Today - </span>\n",
       "<span style=\"color: #d4b702; text-decoration-color: #d4b702; font-weight: bold\">Forbes](https://www.forbes.com/sites/bernardmarr/2024/09/24/the-10-biggest-ai-trends-of-2025-everyone-must-be-ready</span>\n",
       "<span style=\"color: #d4b702; text-decoration-color: #d4b702; font-weight: bold\">-for-today/)</span>\n",
       "<span style=\"color: #d4b702; text-decoration-color: #d4b702; font-weight: bold\">Discover the 10 major AI trends set to reshape 2025: from augmented working and real-time decision-making to </span>\n",
       "<span style=\"color: #d4b702; text-decoration-color: #d4b702; font-weight: bold\">advanced AI legislation and sustainable AI initiatives.</span>\n",
       "\n",
       "<span style=\"color: #d4b702; text-decoration-color: #d4b702; font-weight: bold\">[AI in the workplace: A report for 2025 | McKinsey - McKinsey &amp; </span>\n",
       "<span style=\"color: #d4b702; text-decoration-color: #d4b702; font-weight: bold\">Company](https://www.mckinsey.com/capabilities/mckinsey-digital/our-insights/superagency-in-the-workplace-empowerin</span>\n",
       "<span style=\"color: #d4b702; text-decoration-color: #d4b702; font-weight: bold\">g-people-to-unlock-ais-full-potential-at-work)</span>\n",
       "<span style=\"color: #d4b702; text-decoration-color: #d4b702; font-weight: bold\">Artificial intelligence has arrived in the workplace and has the potential to be as transformative as the steam </span>\n",
       "<span style=\"color: #d4b702; text-decoration-color: #d4b702; font-weight: bold\">engine was to the 19th-century Industrial Revolution. 1 \"Gen AI: A cognitive industrial revolution,\" McKinsey, June</span>\n",
       "<span style=\"color: #d4b702; text-decoration-color: #d4b702; font-weight: bold\">7, 2024. With powerful and capable large language models (LLMs) developed by Anthropic, Cohere, Google, Meta, </span>\n",
       "<span style=\"color: #d4b702; text-decoration-color: #d4b702; font-weight: bold\">Mistral, OpenAI, and others, we have entered a new ...</span>\n",
       "\n",
       "<span style=\"color: #d4b702; text-decoration-color: #d4b702; font-weight: bold\">[Artificial Intelligence | Stanford Emerging Technology </span>\n",
       "<span style=\"color: #d4b702; text-decoration-color: #d4b702; font-weight: bold\">Review](https://setr.stanford.edu/technology/artificial-intelligence/2025)</span>\n",
       "<span style=\"color: #d4b702; text-decoration-color: #d4b702; font-weight: bold\">• Artificial intelligence (AI) is a foundational technology that is supercharging other scientific fields and, like</span>\n",
       "<span style=\"color: #d4b702; text-decoration-color: #d4b702; font-weight: bold\">electricity and the internet, has the potential to transform societies, economies, and politics worldwide. ... </span>\n",
       "<span style=\"color: #d4b702; text-decoration-color: #d4b702; font-weight: bold\">Research on foundational AI technologies is difficult to regulate, even among likeminded nations. It is even more </span>\n",
       "<span style=\"color: #d4b702; text-decoration-color: #d4b702; font-weight: bold\">...</span>\n",
       "\n",
       "<span style=\"color: #d4b702; text-decoration-color: #d4b702; font-weight: bold\">[What's next for AI in 2025 - MIT Technology </span>\n",
       "<span style=\"color: #d4b702; text-decoration-color: #d4b702; font-weight: bold\">Review](https://www.technologyreview.com/2025/01/08/1109188/whats-next-for-ai-in-2025/)</span>\n",
       "<span style=\"color: #d4b702; text-decoration-color: #d4b702; font-weight: bold\">AI model makers are also keen to pitch their generative products as research tools for scientists. OpenAI let </span>\n",
       "<span style=\"color: #d4b702; text-decoration-color: #d4b702; font-weight: bold\">scientists test its latest o1 model and see how it might support them in research. The ...</span>\n",
       "\n",
       "<span style=\"color: #d4b702; text-decoration-color: #d4b702; font-weight: bold\">[Top 15 AI Trends for 2025: Expert Predictions You Need to </span>\n",
       "<span style=\"color: #d4b702; text-decoration-color: #d4b702; font-weight: bold\">Know](https://techstartups.com/2025/01/01/top-15-ai-trends-for-2025-expert-predictions-you-need-to-know/)</span>\n",
       "<span style=\"color: #d4b702; text-decoration-color: #d4b702; font-weight: bold\">3. Open-Source AI Gains Momentum Last week, we wrote about how Deepseek outperformed OpenAI and Meta's latest </span>\n",
       "<span style=\"color: #d4b702; text-decoration-color: #d4b702; font-weight: bold\">models at a fraction of the cost.Deepseek, a free open-source AI model developed by a Chinese tech startup, </span>\n",
       "<span style=\"color: #d4b702; text-decoration-color: #d4b702; font-weight: bold\">exemplifies a growing trend in open-source AI, where accessible tools are pushing the boundaries of performance and</span>\n",
       "<span style=\"color: #d4b702; text-decoration-color: #d4b702; font-weight: bold\">affordability.</span>\n",
       "\n",
       "<span style=\"color: #d4b702; text-decoration-color: #d4b702; font-weight: bold\">[Five Trends in AI and Data Science for 2025 - MIT Sloan Management </span>\n",
       "<span style=\"color: #d4b702; text-decoration-color: #d4b702; font-weight: bold\">Review](https://sloanreview.mit.edu/article/five-trends-in-ai-and-data-science-for-2025/)</span>\n",
       "<span style=\"color: #d4b702; text-decoration-color: #d4b702; font-weight: bold\">But we will incorporate the latest research whenever possible. Randy has just completed his annual survey of data, </span>\n",
       "<span style=\"color: #d4b702; text-decoration-color: #d4b702; font-weight: bold\">analytics, and AI executives, the 2025 AI &amp; Data Leadership Executive Benchmark Survey, conducted by his </span>\n",
       "<span style=\"color: #d4b702; text-decoration-color: #d4b702; font-weight: bold\">educational firm, Data &amp; AI Leadership Exchange; and Tom has worked on several surveys on generative AI and data, </span>\n",
       "<span style=\"color: #d4b702; text-decoration-color: #d4b702; font-weight: bold\">technology ...</span>\n",
       "\n",
       "<span style=\"color: #d4b702; text-decoration-color: #d4b702; font-weight: bold\">[Artificial Intelligence News -- </span>\n",
       "<span style=\"color: #d4b702; text-decoration-color: #d4b702; font-weight: bold\">ScienceDaily](https://www.sciencedaily.com/news/computers_math/artificial_intelligence/)</span>\n",
       "<span style=\"color: #d4b702; text-decoration-color: #d4b702; font-weight: bold\">Jan. 15, 2025 — A new initiative is challenging the conversation around the direction of artificial intelligence </span>\n",
       "<span style=\"color: #d4b702; text-decoration-color: #d4b702; font-weight: bold\">(AI). It charges that the current trajectory is inherently biased against non ...</span>\n",
       "\n",
       "<span style=\"color: #d4b702; text-decoration-color: #d4b702; font-weight: bold\">[AI Advancements in 2025: The Next Big Innovations to </span>\n",
       "<span style=\"color: #d4b702; text-decoration-color: #d4b702; font-weight: bold\">Watch](https://techresearchs.com/artificial-intelligence/ai-advancements-in-2025-the-next-big-innovations-to-watch/</span>\n",
       "<span style=\"color: #d4b702; text-decoration-color: #d4b702; font-weight: bold\">)</span>\n",
       "<span style=\"color: #d4b702; text-decoration-color: #d4b702; font-weight: bold\">Artificial Intelligence (AI) continues to evolve, reshaping industries and daily life. In 2025, AI advancements </span>\n",
       "<span style=\"color: #d4b702; text-decoration-color: #d4b702; font-weight: bold\">will bring groundbreaking innovations, enhancing automation, decision-making, and problem-solving across various </span>\n",
       "<span style=\"color: #d4b702; text-decoration-color: #d4b702; font-weight: bold\">sectors. This article explores the latest AI advancements in 2025, their applications, and their transformative </span>\n",
       "<span style=\"color: #d4b702; text-decoration-color: #d4b702; font-weight: bold\">impact on businesses and society.</span>\n",
       "\n",
       "<span style=\"color: #d4b702; text-decoration-color: #d4b702; font-weight: bold\">[10 Artificial Intelligence Trends in 2025 To Stay </span>\n",
       "<span style=\"color: #d4b702; text-decoration-color: #d4b702; font-weight: bold\">Ahead](https://northwest.education/insights/artificial-intelligence/10-top-artificial-intelligence-trends-to-stay-a</span>\n",
       "<span style=\"color: #d4b702; text-decoration-color: #d4b702; font-weight: bold\">head/)</span>\n",
       "<span style=\"color: #d4b702; text-decoration-color: #d4b702; font-weight: bold\">10 AI trends that will define 2025. The following trends highlight how artificial intelligence 2025 will drive </span>\n",
       "<span style=\"color: #d4b702; text-decoration-color: #d4b702; font-weight: bold\">innovation and redefine industries: AI-powered cybersecurity. Cybersecurity threats are becoming increasingly </span>\n",
       "<span style=\"color: #d4b702; text-decoration-color: #d4b702; font-weight: bold\">sophisticated. AI-powered solutions will play a pivotal role in detecting vulnerabilities, predicting attacks, and </span>\n",
       "<span style=\"color: #d4b702; text-decoration-color: #d4b702; font-weight: bold\">automating ...</span>\n",
       "\n",
       "<span style=\"color: #d4b702; text-decoration-color: #d4b702; font-weight: bold\">[5 Predictions for AI in 2025 - TIME](https://time.com/7204665/ai-predictions-2025/)</span>\n",
       "<span style=\"color: #d4b702; text-decoration-color: #d4b702; font-weight: bold\">Davos 2025: New Horizons. 5 Predictions for AI in 2025. 4 minute read. Illustration by Tara Jacoby for TIME. By </span>\n",
       "<span style=\"color: #d4b702; text-decoration-color: #d4b702; font-weight: bold\">Tharin Pillay and Harry Booth. ... Here's what to expect from AI in 2025.</span>\n",
       "</pre>\n"
      ],
      "text/plain": [
       "\u001b[1;38;2;212;183;2mOut - Final answer: ## Search Results\u001b[0m\n",
       "\n",
       "\u001b[1;38;2;212;183;2m[The 10 Biggest AI Trends Of 2025 Everyone Must Be Ready For Today - \u001b[0m\n",
       "\u001b[1;38;2;212;183;2mForbes](https://www.forbes.com/sites/bernardmarr/2024/09/24/the-10-biggest-ai-trends-of-2025-everyone-must-be-ready\u001b[0m\n",
       "\u001b[1;38;2;212;183;2m-for-today/)\u001b[0m\n",
       "\u001b[1;38;2;212;183;2mDiscover the 10 major AI trends set to reshape 2025: from augmented working and real-time decision-making to \u001b[0m\n",
       "\u001b[1;38;2;212;183;2madvanced AI legislation and sustainable AI initiatives.\u001b[0m\n",
       "\n",
       "\u001b[1;38;2;212;183;2m[AI in the workplace: A report for 2025 | McKinsey - McKinsey & \u001b[0m\n",
       "\u001b[1;38;2;212;183;2mCompany](https://www.mckinsey.com/capabilities/mckinsey-digital/our-insights/superagency-in-the-workplace-empowerin\u001b[0m\n",
       "\u001b[1;38;2;212;183;2mg-people-to-unlock-ais-full-potential-at-work)\u001b[0m\n",
       "\u001b[1;38;2;212;183;2mArtificial intelligence has arrived in the workplace and has the potential to be as transformative as the steam \u001b[0m\n",
       "\u001b[1;38;2;212;183;2mengine was to the 19th-century Industrial Revolution. 1 \"Gen AI: A cognitive industrial revolution,\" McKinsey, June\u001b[0m\n",
       "\u001b[1;38;2;212;183;2m7, 2024. With powerful and capable large language models (LLMs) developed by Anthropic, Cohere, Google, Meta, \u001b[0m\n",
       "\u001b[1;38;2;212;183;2mMistral, OpenAI, and others, we have entered a new ...\u001b[0m\n",
       "\n",
       "\u001b[1;38;2;212;183;2m[Artificial Intelligence | Stanford Emerging Technology \u001b[0m\n",
       "\u001b[1;38;2;212;183;2mReview](https://setr.stanford.edu/technology/artificial-intelligence/2025)\u001b[0m\n",
       "\u001b[1;38;2;212;183;2m• Artificial intelligence (AI) is a foundational technology that is supercharging other scientific fields and, like\u001b[0m\n",
       "\u001b[1;38;2;212;183;2melectricity and the internet, has the potential to transform societies, economies, and politics worldwide. ... \u001b[0m\n",
       "\u001b[1;38;2;212;183;2mResearch on foundational AI technologies is difficult to regulate, even among likeminded nations. It is even more \u001b[0m\n",
       "\u001b[1;38;2;212;183;2m...\u001b[0m\n",
       "\n",
       "\u001b[1;38;2;212;183;2m[What's next for AI in 2025 - MIT Technology \u001b[0m\n",
       "\u001b[1;38;2;212;183;2mReview](https://www.technologyreview.com/2025/01/08/1109188/whats-next-for-ai-in-2025/)\u001b[0m\n",
       "\u001b[1;38;2;212;183;2mAI model makers are also keen to pitch their generative products as research tools for scientists. OpenAI let \u001b[0m\n",
       "\u001b[1;38;2;212;183;2mscientists test its latest o1 model and see how it might support them in research. The ...\u001b[0m\n",
       "\n",
       "\u001b[1;38;2;212;183;2m[Top 15 AI Trends for 2025: Expert Predictions You Need to \u001b[0m\n",
       "\u001b[1;38;2;212;183;2mKnow](https://techstartups.com/2025/01/01/top-15-ai-trends-for-2025-expert-predictions-you-need-to-know/)\u001b[0m\n",
       "\u001b[1;38;2;212;183;2m3. Open-Source AI Gains Momentum Last week, we wrote about how Deepseek outperformed OpenAI and Meta's latest \u001b[0m\n",
       "\u001b[1;38;2;212;183;2mmodels at a fraction of the cost.Deepseek, a free open-source AI model developed by a Chinese tech startup, \u001b[0m\n",
       "\u001b[1;38;2;212;183;2mexemplifies a growing trend in open-source AI, where accessible tools are pushing the boundaries of performance and\u001b[0m\n",
       "\u001b[1;38;2;212;183;2maffordability.\u001b[0m\n",
       "\n",
       "\u001b[1;38;2;212;183;2m[Five Trends in AI and Data Science for 2025 - MIT Sloan Management \u001b[0m\n",
       "\u001b[1;38;2;212;183;2mReview](https://sloanreview.mit.edu/article/five-trends-in-ai-and-data-science-for-2025/)\u001b[0m\n",
       "\u001b[1;38;2;212;183;2mBut we will incorporate the latest research whenever possible. Randy has just completed his annual survey of data, \u001b[0m\n",
       "\u001b[1;38;2;212;183;2manalytics, and AI executives, the 2025 AI & Data Leadership Executive Benchmark Survey, conducted by his \u001b[0m\n",
       "\u001b[1;38;2;212;183;2meducational firm, Data & AI Leadership Exchange; and Tom has worked on several surveys on generative AI and data, \u001b[0m\n",
       "\u001b[1;38;2;212;183;2mtechnology ...\u001b[0m\n",
       "\n",
       "\u001b[1;38;2;212;183;2m[Artificial Intelligence News -- \u001b[0m\n",
       "\u001b[1;38;2;212;183;2mScienceDaily](https://www.sciencedaily.com/news/computers_math/artificial_intelligence/)\u001b[0m\n",
       "\u001b[1;38;2;212;183;2mJan. 15, 2025 — A new initiative is challenging the conversation around the direction of artificial intelligence \u001b[0m\n",
       "\u001b[1;38;2;212;183;2m(AI). It charges that the current trajectory is inherently biased against non ...\u001b[0m\n",
       "\n",
       "\u001b[1;38;2;212;183;2m[AI Advancements in 2025: The Next Big Innovations to \u001b[0m\n",
       "\u001b[1;38;2;212;183;2mWatch](https://techresearchs.com/artificial-intelligence/ai-advancements-in-2025-the-next-big-innovations-to-watch/\u001b[0m\n",
       "\u001b[1;38;2;212;183;2m)\u001b[0m\n",
       "\u001b[1;38;2;212;183;2mArtificial Intelligence (AI) continues to evolve, reshaping industries and daily life. In 2025, AI advancements \u001b[0m\n",
       "\u001b[1;38;2;212;183;2mwill bring groundbreaking innovations, enhancing automation, decision-making, and problem-solving across various \u001b[0m\n",
       "\u001b[1;38;2;212;183;2msectors. This article explores the latest AI advancements in 2025, their applications, and their transformative \u001b[0m\n",
       "\u001b[1;38;2;212;183;2mimpact on businesses and society.\u001b[0m\n",
       "\n",
       "\u001b[1;38;2;212;183;2m[10 Artificial Intelligence Trends in 2025 To Stay \u001b[0m\n",
       "\u001b[1;38;2;212;183;2mAhead](https://northwest.education/insights/artificial-intelligence/10-top-artificial-intelligence-trends-to-stay-a\u001b[0m\n",
       "\u001b[1;38;2;212;183;2mhead/)\u001b[0m\n",
       "\u001b[1;38;2;212;183;2m10 AI trends that will define 2025. The following trends highlight how artificial intelligence 2025 will drive \u001b[0m\n",
       "\u001b[1;38;2;212;183;2minnovation and redefine industries: AI-powered cybersecurity. Cybersecurity threats are becoming increasingly \u001b[0m\n",
       "\u001b[1;38;2;212;183;2msophisticated. AI-powered solutions will play a pivotal role in detecting vulnerabilities, predicting attacks, and \u001b[0m\n",
       "\u001b[1;38;2;212;183;2mautomating ...\u001b[0m\n",
       "\n",
       "\u001b[1;38;2;212;183;2m[5 Predictions for AI in 2025 - TIME](https://time.com/7204665/ai-predictions-2025/)\u001b[0m\n",
       "\u001b[1;38;2;212;183;2mDavos 2025: New Horizons. 5 Predictions for AI in 2025. 4 minute read. Illustration by Tara Jacoby for TIME. By \u001b[0m\n",
       "\u001b[1;38;2;212;183;2mTharin Pillay and Harry Booth. ... Here's what to expect from AI in 2025.\u001b[0m\n"
      ]
     },
     "metadata": {},
     "output_type": "display_data"
    },
    {
     "data": {
      "text/html": [
       "<pre style=\"white-space:pre;overflow-x:auto;line-height:normal;font-family:Menlo,'DejaVu Sans Mono',consolas,'Courier New',monospace\"><span style=\"color: #7f7f7f; text-decoration-color: #7f7f7f\">[Step 0: Duration 6.77 seconds| Input tokens: 2,510 | Output tokens: 82]</span>\n",
       "</pre>\n"
      ],
      "text/plain": [
       "\u001b[2m[Step 0: Duration 6.77 seconds| Input tokens: 2,510 | Output tokens: 82]\u001b[0m\n"
      ]
     },
     "metadata": {},
     "output_type": "display_data"
    },
    {
     "name": "stdout",
     "output_type": "stream",
     "text": [
      "CodeAgent: ## Search Results\n",
      "\n",
      "[The 10 Biggest AI Trends Of 2025 Everyone Must Be Ready For Today - Forbes](https://www.forbes.com/sites/bernardmarr/2024/09/24/the-10-biggest-ai-trends-of-2025-everyone-must-be-ready-for-today/)\n",
      "Discover the 10 major AI trends set to reshape 2025: from augmented working and real-time decision-making to advanced AI legislation and sustainable AI initiatives.\n",
      "\n",
      "[AI in the workplace: A report for 2025 | McKinsey - McKinsey & Company](https://www.mckinsey.com/capabilities/mckinsey-digital/our-insights/superagency-in-the-workplace-empowering-people-to-unlock-ais-full-potential-at-work)\n",
      "Artificial intelligence has arrived in the workplace and has the potential to be as transformative as the steam engine was to the 19th-century Industrial Revolution. 1 \"Gen AI: A cognitive industrial revolution,\" McKinsey, June 7, 2024. With powerful and capable large language models (LLMs) developed by Anthropic, Cohere, Google, Meta, Mistral, OpenAI, and others, we have entered a new ...\n",
      "\n",
      "[Artificial Intelligence | Stanford Emerging Technology Review](https://setr.stanford.edu/technology/artificial-intelligence/2025)\n",
      "• Artificial intelligence (AI) is a foundational technology that is supercharging other scientific fields and, like electricity and the internet, has the potential to transform societies, economies, and politics worldwide. ... Research on foundational AI technologies is difficult to regulate, even among likeminded nations. It is even more ...\n",
      "\n",
      "[What's next for AI in 2025 - MIT Technology Review](https://www.technologyreview.com/2025/01/08/1109188/whats-next-for-ai-in-2025/)\n",
      "AI model makers are also keen to pitch their generative products as research tools for scientists. OpenAI let scientists test its latest o1 model and see how it might support them in research. The ...\n",
      "\n",
      "[Top 15 AI Trends for 2025: Expert Predictions You Need to Know](https://techstartups.com/2025/01/01/top-15-ai-trends-for-2025-expert-predictions-you-need-to-know/)\n",
      "3. Open-Source AI Gains Momentum Last week, we wrote about how Deepseek outperformed OpenAI and Meta's latest models at a fraction of the cost.Deepseek, a free open-source AI model developed by a Chinese tech startup, exemplifies a growing trend in open-source AI, where accessible tools are pushing the boundaries of performance and affordability.\n",
      "\n",
      "[Five Trends in AI and Data Science for 2025 - MIT Sloan Management Review](https://sloanreview.mit.edu/article/five-trends-in-ai-and-data-science-for-2025/)\n",
      "But we will incorporate the latest research whenever possible. Randy has just completed his annual survey of data, analytics, and AI executives, the 2025 AI & Data Leadership Executive Benchmark Survey, conducted by his educational firm, Data & AI Leadership Exchange; and Tom has worked on several surveys on generative AI and data, technology ...\n",
      "\n",
      "[Artificial Intelligence News -- ScienceDaily](https://www.sciencedaily.com/news/computers_math/artificial_intelligence/)\n",
      "Jan. 15, 2025 — A new initiative is challenging the conversation around the direction of artificial intelligence (AI). It charges that the current trajectory is inherently biased against non ...\n",
      "\n",
      "[AI Advancements in 2025: The Next Big Innovations to Watch](https://techresearchs.com/artificial-intelligence/ai-advancements-in-2025-the-next-big-innovations-to-watch/)\n",
      "Artificial Intelligence (AI) continues to evolve, reshaping industries and daily life. In 2025, AI advancements will bring groundbreaking innovations, enhancing automation, decision-making, and problem-solving across various sectors. This article explores the latest AI advancements in 2025, their applications, and their transformative impact on businesses and society.\n",
      "\n",
      "[10 Artificial Intelligence Trends in 2025 To Stay Ahead](https://northwest.education/insights/artificial-intelligence/10-top-artificial-intelligence-trends-to-stay-ahead/)\n",
      "10 AI trends that will define 2025. The following trends highlight how artificial intelligence 2025 will drive innovation and redefine industries: AI-powered cybersecurity. Cybersecurity threats are becoming increasingly sophisticated. AI-powered solutions will play a pivotal role in detecting vulnerabilities, predicting attacks, and automating ...\n",
      "\n",
      "[5 Predictions for AI in 2025 - TIME](https://time.com/7204665/ai-predictions-2025/)\n",
      "Davos 2025: New Horizons. 5 Predictions for AI in 2025. 4 minute read. Illustration by Tara Jacoby for TIME. By Tharin Pillay and Harry Booth. ... Here's what to expect from AI in 2025.\n"
     ]
    }
   ],
   "source": [
    "print(\"CodeAgent:\", agent.run(\"Could you search the web for the latest AI research in 2025\"))"
   ]
  }
 ],
 "metadata": {
  "kernelspec": {
   "display_name": "openai",
   "language": "python",
   "name": "python3"
  },
  "language_info": {
   "codemirror_mode": {
    "name": "ipython",
    "version": 3
   },
   "file_extension": ".py",
   "mimetype": "text/x-python",
   "name": "python",
   "nbconvert_exporter": "python",
   "pygments_lexer": "ipython3",
   "version": "3.11.10"
  }
 },
 "nbformat": 4,
 "nbformat_minor": 4
}
